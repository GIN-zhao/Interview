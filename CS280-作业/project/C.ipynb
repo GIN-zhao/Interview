{
 "cells": [
  {
   "cell_type": "code",
   "execution_count": 22,
   "metadata": {},
   "outputs": [],
   "source": [
    "#Import libraries\n",
    "import cdt\n",
    "from cdt import SETTINGS\n",
    "SETTINGS.verbose=False\n",
    "SETTINGS.NJOBS=16\n",
    "import networkx as nx\n",
    "import time\n",
    "# A warning on R libraries might occur. It is for the use of the r libraries that could be imported into the framework\n",
    "import numpy as np\n",
    "import pandas as pd\n",
    "from matplotlib import pyplot as plt"
   ]
  },
  {
   "cell_type": "code",
   "execution_count": 24,
   "metadata": {},
   "outputs": [
    {
     "ename": "ImportError",
     "evalue": "R Package (k)pcalg/RCIT is not available. RCIT has to be installed from https://github.com/Diviyan-Kalainathan/RCIT",
     "output_type": "error",
     "traceback": [
      "\u001b[0;31m---------------------------------------------------------------------------\u001b[0m",
      "\u001b[0;31mImportError\u001b[0m                               Traceback (most recent call last)",
      "Cell \u001b[0;32mIn[24], line 19\u001b[0m\n\u001b[1;32m     17\u001b[0m data \u001b[38;5;241m=\u001b[39m pd\u001b[38;5;241m.\u001b[39mread_json(json_file_path)\n\u001b[1;32m     18\u001b[0m data \u001b[38;5;241m=\u001b[39m pd\u001b[38;5;241m.\u001b[39mDataFrame(data)\n\u001b[0;32m---> 19\u001b[0m obj \u001b[38;5;241m=\u001b[39m \u001b[43mPC\u001b[49m\u001b[43m(\u001b[49m\u001b[43m)\u001b[49m\n\u001b[1;32m     20\u001b[0m \u001b[38;5;66;03m#The predict() method works without a graph, or with a\u001b[39;00m\n\u001b[1;32m     21\u001b[0m \u001b[38;5;66;03m#directed or undirected graph provided as an input\u001b[39;00m\n\u001b[1;32m     22\u001b[0m ograph \u001b[38;5;241m=\u001b[39m obj\u001b[38;5;241m.\u001b[39mpredict(data)    \u001b[38;5;66;03m#No graph provided as an argument\u001b[39;00m\n",
      "File \u001b[0;32m~/.local/lib/python3.8/site-packages/cdt/causality/graph/PC.py:176\u001b[0m, in \u001b[0;36mPC.__init__\u001b[0;34m(self, CItest, method_indep, alpha, njobs, verbose)\u001b[0m\n\u001b[1;32m    174\u001b[0m \u001b[38;5;250m\u001b[39m\u001b[38;5;124;03m\"\"\"Init the model and its available arguments.\"\"\"\u001b[39;00m\n\u001b[1;32m    175\u001b[0m \u001b[38;5;28;01mif\u001b[39;00m \u001b[38;5;129;01mnot\u001b[39;00m (RPackages\u001b[38;5;241m.\u001b[39mpcalg \u001b[38;5;129;01mand\u001b[39;00m RPackages\u001b[38;5;241m.\u001b[39mkpcalg \u001b[38;5;129;01mand\u001b[39;00m RPackages\u001b[38;5;241m.\u001b[39mRCIT):\n\u001b[0;32m--> 176\u001b[0m     \u001b[38;5;28;01mraise\u001b[39;00m \u001b[38;5;167;01mImportError\u001b[39;00m(\u001b[38;5;124m\"\u001b[39m\u001b[38;5;124mR Package (k)pcalg/RCIT is not available. \u001b[39m\u001b[38;5;124m\"\u001b[39m\n\u001b[1;32m    177\u001b[0m                       \u001b[38;5;124m\"\u001b[39m\u001b[38;5;124mRCIT has to be installed from \u001b[39m\u001b[38;5;124m\"\u001b[39m\n\u001b[1;32m    178\u001b[0m                       \u001b[38;5;124m\"\u001b[39m\u001b[38;5;124mhttps://github.com/Diviyan-Kalainathan/RCIT\u001b[39m\u001b[38;5;124m\"\u001b[39m)\n\u001b[1;32m    180\u001b[0m \u001b[38;5;28msuper\u001b[39m(PC, \u001b[38;5;28mself\u001b[39m)\u001b[38;5;241m.\u001b[39m\u001b[38;5;21m__init__\u001b[39m()\n\u001b[1;32m    181\u001b[0m \u001b[38;5;28mself\u001b[39m\u001b[38;5;241m.\u001b[39mdir_CI_test \u001b[38;5;241m=\u001b[39m {\u001b[38;5;124m'\u001b[39m\u001b[38;5;124mbinary\u001b[39m\u001b[38;5;124m'\u001b[39m: \u001b[38;5;124m\"\u001b[39m\u001b[38;5;124mpcalg::binCItest\u001b[39m\u001b[38;5;124m\"\u001b[39m, \u001b[38;5;66;03m# ic.method=\\\"dcc\\\"\",\u001b[39;00m\n\u001b[1;32m    182\u001b[0m                          \u001b[38;5;124m'\u001b[39m\u001b[38;5;124mdiscrete\u001b[39m\u001b[38;5;124m'\u001b[39m: \u001b[38;5;124m\"\u001b[39m\u001b[38;5;124mpcalg::disCItest\u001b[39m\u001b[38;5;124m\"\u001b[39m,\n\u001b[1;32m    183\u001b[0m                          \u001b[38;5;124m'\u001b[39m\u001b[38;5;124mhsic_gamma\u001b[39m\u001b[38;5;124m'\u001b[39m: \u001b[38;5;124m\"\u001b[39m\u001b[38;5;124mkpcalg::kernelCItest\u001b[39m\u001b[38;5;124m\"\u001b[39m,\n\u001b[0;32m   (...)\u001b[0m\n\u001b[1;32m    187\u001b[0m                          \u001b[38;5;124m'\u001b[39m\u001b[38;5;124mrcit\u001b[39m\u001b[38;5;124m'\u001b[39m: \u001b[38;5;124m\"\u001b[39m\u001b[38;5;124mRCIT:::CItest\u001b[39m\u001b[38;5;124m\"\u001b[39m,\n\u001b[1;32m    188\u001b[0m                          \u001b[38;5;124m'\u001b[39m\u001b[38;5;124mrcot\u001b[39m\u001b[38;5;124m'\u001b[39m: \u001b[38;5;124m\"\u001b[39m\u001b[38;5;124mRCIT:::CItest\u001b[39m\u001b[38;5;124m\"\u001b[39m}\n",
      "\u001b[0;31mImportError\u001b[0m: R Package (k)pcalg/RCIT is not available. RCIT has to be installed from https://github.com/Diviyan-Kalainathan/RCIT"
     ]
    }
   ],
   "source": [
    "\n",
    "\n",
    "#Import libraries\n",
    "import cdt\n",
    "from cdt import SETTINGS\n",
    "SETTINGS.verbose=False\n",
    "SETTINGS.NJOBS=16\n",
    "import networkx as nx\n",
    "import time\n",
    "# A warning on R libraries might occur. It is for the use of the r libraries that could be imported into the framework\n",
    "import numpy as np\n",
    "import pandas as pd\n",
    "from matplotlib import pyplot as plt\n",
    "import networkx as nx\n",
    "from cdt.causality.graph import PC\n",
    "from cdt.data import load_dataset\n",
    "from cdt.independence.graph import LinearSVRL2\n",
    "json_file_path = '/public/home/CS272/chenxd2023-cs272/ML_FinalProject/CausalDiscoveryToolbox-master/cdt/data/resources/npy_mimi.json'\n",
    "data = pd.read_json(json_file_path)\n",
    "data = pd.DataFrame(data)\n",
    "obj = PC()\n",
    "#The predict() method works without a graph, or with a\n",
    "#directed or undirected graph provided as an input\n",
    "ograph = obj.predict(data)    #No graph provided as an argument\n",
    "\n",
    "\n",
    "#To view the graph created, run the below commands:\n",
    "nx.draw_networkx(ograph, font_size=8)\n",
    "plt.show()\n",
    "pd.DataFrame(list(ograph.edges(data='weight')), columns=['Cause', 'Effect', 'Score'])"
   ]
  },
  {
   "cell_type": "code",
   "execution_count": 25,
   "metadata": {},
   "outputs": [
    {
     "ename": "ImportError",
     "evalue": "R Package pcalg is not available.",
     "output_type": "error",
     "traceback": [
      "\u001b[0;31m---------------------------------------------------------------------------\u001b[0m",
      "\u001b[0;31mImportError\u001b[0m                               Traceback (most recent call last)",
      "Cell \u001b[0;32mIn[25], line 5\u001b[0m\n\u001b[1;32m      3\u001b[0m \u001b[38;5;28;01mfrom\u001b[39;00m \u001b[38;5;21;01mcdt\u001b[39;00m\u001b[38;5;21;01m.\u001b[39;00m\u001b[38;5;21;01mdata\u001b[39;00m \u001b[38;5;28;01mimport\u001b[39;00m load_dataset\n\u001b[1;32m      4\u001b[0m data, graph \u001b[38;5;241m=\u001b[39m load_dataset(\u001b[38;5;124m\"\u001b[39m\u001b[38;5;124msachs\u001b[39m\u001b[38;5;124m\"\u001b[39m)\n\u001b[0;32m----> 5\u001b[0m obj \u001b[38;5;241m=\u001b[39m \u001b[43mGES\u001b[49m\u001b[43m(\u001b[49m\u001b[43m)\u001b[49m\n\u001b[1;32m      6\u001b[0m \u001b[38;5;66;03m#The predict() method works without a graph, or with a\u001b[39;00m\n\u001b[1;32m      7\u001b[0m \u001b[38;5;66;03m#directed or udirected graph provided as an input\u001b[39;00m\n\u001b[1;32m      8\u001b[0m output \u001b[38;5;241m=\u001b[39m obj\u001b[38;5;241m.\u001b[39mpredict(data)    \u001b[38;5;66;03m#No graph provided as an argument\u001b[39;00m\n",
      "File \u001b[0;32m~/.local/lib/python3.8/site-packages/cdt/causality/graph/GES.py:110\u001b[0m, in \u001b[0;36mGES.__init__\u001b[0;34m(self, score, verbose)\u001b[0m\n\u001b[1;32m    108\u001b[0m \u001b[38;5;250m\u001b[39m\u001b[38;5;124;03m\"\"\"Init the model and its available arguments.\"\"\"\u001b[39;00m\n\u001b[1;32m    109\u001b[0m \u001b[38;5;28;01mif\u001b[39;00m \u001b[38;5;129;01mnot\u001b[39;00m RPackages\u001b[38;5;241m.\u001b[39mpcalg:\n\u001b[0;32m--> 110\u001b[0m     \u001b[38;5;28;01mraise\u001b[39;00m \u001b[38;5;167;01mImportError\u001b[39;00m(\u001b[38;5;124m\"\u001b[39m\u001b[38;5;124mR Package pcalg is not available.\u001b[39m\u001b[38;5;124m\"\u001b[39m)\n\u001b[1;32m    112\u001b[0m \u001b[38;5;28msuper\u001b[39m(GES, \u001b[38;5;28mself\u001b[39m)\u001b[38;5;241m.\u001b[39m\u001b[38;5;21m__init__\u001b[39m()\n\u001b[1;32m    113\u001b[0m \u001b[38;5;28mself\u001b[39m\u001b[38;5;241m.\u001b[39mscores \u001b[38;5;241m=\u001b[39m {\u001b[38;5;124m'\u001b[39m\u001b[38;5;124mint\u001b[39m\u001b[38;5;124m'\u001b[39m: \u001b[38;5;124m'\u001b[39m\u001b[38;5;124mGaussL0penIntScore\u001b[39m\u001b[38;5;124m'\u001b[39m,\n\u001b[1;32m    114\u001b[0m                \u001b[38;5;124m'\u001b[39m\u001b[38;5;124mobs\u001b[39m\u001b[38;5;124m'\u001b[39m: \u001b[38;5;124m'\u001b[39m\u001b[38;5;124mGaussL0penObsScore\u001b[39m\u001b[38;5;124m'\u001b[39m}\n",
      "\u001b[0;31mImportError\u001b[0m: R Package pcalg is not available."
     ]
    }
   ],
   "source": [
    "import networkx as nx\n",
    "from cdt.causality.graph import GES\n",
    "from cdt.data import load_dataset\n",
    "data, graph = load_dataset(\"sachs\")\n",
    "obj = GES()\n",
    "#The predict() method works without a graph, or with a\n",
    "#directed or udirected graph provided as an input\n",
    "output = obj.predict(data)    #No graph provided as an argument"
   ]
  }
 ],
 "metadata": {
  "kernelspec": {
   "display_name": "cvcxd",
   "language": "python",
   "name": "python3"
  },
  "language_info": {
   "codemirror_mode": {
    "name": "ipython",
    "version": 3
   },
   "file_extension": ".py",
   "mimetype": "text/x-python",
   "name": "python",
   "nbconvert_exporter": "python",
   "pygments_lexer": "ipython3",
   "version": "3.8.18"
  }
 },
 "nbformat": 4,
 "nbformat_minor": 2
}
