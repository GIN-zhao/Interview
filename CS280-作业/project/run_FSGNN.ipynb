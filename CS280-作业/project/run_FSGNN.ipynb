{
 "cells": [
  {
   "cell_type": "code",
   "execution_count": 1,
   "metadata": {},
   "outputs": [
    {
     "name": "stderr",
     "output_type": "stream",
     "text": [
      "e:\\AnaConda\\envs\\python-3.8\\lib\\site-packages\\tqdm\\auto.py:21: TqdmWarning: IProgress not found. Please update jupyter and ipywidgets. See https://ipywidgets.readthedocs.io/en/stable/user_install.html\n",
      "  from .autonotebook import tqdm as notebook_tqdm\n",
      "Detecting 1 CUDA device(s).\n"
     ]
    }
   ],
   "source": [
    "#Import libraries\n",
    "import cdt\n",
    "from cdt import SETTINGS\n",
    "SETTINGS.verbose=True\n",
    "# SETTINGS.GPU = 1\n",
    "# SETTINGS.njobs = 1 \n",
    "SETTINGS.GPU = 0 \n",
    "import networkx as nx\n",
    "import time\n",
    "# A warning on R libraries might occur. It is for the use of the r libraries that could be imported into the framework\n",
    "import numpy as np\n",
    "import pandas as pd\n",
    "from matplotlib import pyplot as plt\n",
    "from cdt.independence.graph import FSGNN"
   ]
  },
  {
   "cell_type": "code",
   "execution_count": 2,
   "metadata": {},
   "outputs": [
    {
     "name": "stdout",
     "output_type": "stream",
     "text": [
      "(100000, 11)\n"
     ]
    }
   ],
   "source": [
    "name=\"ignore_by_default\"\n",
    "json_file_path = 'npy_files/recording_09-21_08_ignore_by_default.json'\n",
    "data = pd.read_json(json_file_path)\n",
    "data = data.sample(n=100000, random_state=42)\n",
    "print(data.shape)\n"
   ]
  },
  {
   "cell_type": "code",
   "execution_count": 3,
   "metadata": {},
   "outputs": [
    {
     "name": "stdout",
     "output_type": "stream",
     "text": [
      "start\n",
      "train\n",
      "write\n"
     ]
    },
    {
     "name": "stderr",
     "output_type": "stream",
     "text": [
      "100%|██████████| 2/2 [00:06<00:00,  3.33s/it, epoch=0, loss=4.41]\n"
     ]
    },
    {
     "name": "stdout",
     "output_type": "stream",
     "text": [
      "write\n"
     ]
    },
    {
     "name": "stderr",
     "output_type": "stream",
     "text": [
      "100%|██████████| 2/2 [00:02<00:00,  1.35s/it, epoch=0, loss=5.44]\n"
     ]
    },
    {
     "name": "stdout",
     "output_type": "stream",
     "text": [
      "write\n"
     ]
    },
    {
     "name": "stderr",
     "output_type": "stream",
     "text": [
      "100%|██████████| 2/2 [00:02<00:00,  1.43s/it, epoch=0, loss=4.63]\n"
     ]
    },
    {
     "name": "stdout",
     "output_type": "stream",
     "text": [
      "write\n"
     ]
    },
    {
     "name": "stderr",
     "output_type": "stream",
     "text": [
      "100%|██████████| 2/2 [00:02<00:00,  1.41s/it, epoch=0, loss=5.46]\n"
     ]
    },
    {
     "name": "stdout",
     "output_type": "stream",
     "text": [
      "write\n"
     ]
    },
    {
     "name": "stderr",
     "output_type": "stream",
     "text": [
      "100%|██████████| 2/2 [00:02<00:00,  1.41s/it, epoch=0, loss=4.95]\n"
     ]
    },
    {
     "name": "stdout",
     "output_type": "stream",
     "text": [
      "write\n"
     ]
    },
    {
     "name": "stderr",
     "output_type": "stream",
     "text": [
      "100%|██████████| 2/2 [00:02<00:00,  1.40s/it, epoch=0, loss=5.29]\n"
     ]
    },
    {
     "name": "stdout",
     "output_type": "stream",
     "text": [
      "write\n"
     ]
    },
    {
     "name": "stderr",
     "output_type": "stream",
     "text": [
      "100%|██████████| 2/2 [00:02<00:00,  1.30s/it, epoch=0, loss=4.03]\n"
     ]
    },
    {
     "name": "stdout",
     "output_type": "stream",
     "text": [
      "write\n"
     ]
    },
    {
     "name": "stderr",
     "output_type": "stream",
     "text": [
      "100%|██████████| 2/2 [00:02<00:00,  1.39s/it, epoch=0, loss=4.75]\n"
     ]
    },
    {
     "name": "stdout",
     "output_type": "stream",
     "text": [
      "write\n"
     ]
    },
    {
     "name": "stderr",
     "output_type": "stream",
     "text": [
      "100%|██████████| 2/2 [00:02<00:00,  1.41s/it, epoch=0, loss=5.2]\n"
     ]
    },
    {
     "name": "stdout",
     "output_type": "stream",
     "text": [
      "write\n"
     ]
    },
    {
     "name": "stderr",
     "output_type": "stream",
     "text": [
      "100%|██████████| 2/2 [00:02<00:00,  1.37s/it, epoch=0, loss=6.13]\n"
     ]
    },
    {
     "name": "stdout",
     "output_type": "stream",
     "text": [
      "write\n"
     ]
    },
    {
     "name": "stderr",
     "output_type": "stream",
     "text": [
      "100%|██████████| 2/2 [00:02<00:00,  1.39s/it, epoch=0, loss=4.39]\n"
     ]
    },
    {
     "name": "stdout",
     "output_type": "stream",
     "text": [
      "write\n"
     ]
    },
    {
     "name": "stderr",
     "output_type": "stream",
     "text": [
      "100%|██████████| 2/2 [00:02<00:00,  1.32s/it, epoch=0, loss=6.38]\n"
     ]
    },
    {
     "name": "stdout",
     "output_type": "stream",
     "text": [
      "write\n"
     ]
    },
    {
     "name": "stderr",
     "output_type": "stream",
     "text": [
      "100%|██████████| 2/2 [00:02<00:00,  1.40s/it, epoch=0, loss=5.49]\n"
     ]
    },
    {
     "name": "stdout",
     "output_type": "stream",
     "text": [
      "write\n"
     ]
    },
    {
     "name": "stderr",
     "output_type": "stream",
     "text": [
      "100%|██████████| 2/2 [00:02<00:00,  1.39s/it, epoch=0, loss=4.54]\n"
     ]
    },
    {
     "name": "stdout",
     "output_type": "stream",
     "text": [
      "write\n"
     ]
    },
    {
     "name": "stderr",
     "output_type": "stream",
     "text": [
      "100%|██████████| 2/2 [00:02<00:00,  1.40s/it, epoch=0, loss=5.65]\n"
     ]
    },
    {
     "name": "stdout",
     "output_type": "stream",
     "text": [
      "write\n"
     ]
    },
    {
     "name": "stderr",
     "output_type": "stream",
     "text": [
      "100%|██████████| 2/2 [00:02<00:00,  1.38s/it, epoch=0, loss=4.77]\n"
     ]
    },
    {
     "name": "stdout",
     "output_type": "stream",
     "text": [
      "write\n"
     ]
    },
    {
     "name": "stderr",
     "output_type": "stream",
     "text": [
      "100%|██████████| 2/2 [00:02<00:00,  1.40s/it, epoch=0, loss=4.25]\n"
     ]
    },
    {
     "name": "stdout",
     "output_type": "stream",
     "text": [
      "write\n"
     ]
    },
    {
     "name": "stderr",
     "output_type": "stream",
     "text": [
      "100%|██████████| 2/2 [00:02<00:00,  1.34s/it, epoch=0, loss=4.54]\n"
     ]
    },
    {
     "name": "stdout",
     "output_type": "stream",
     "text": [
      "write\n"
     ]
    },
    {
     "name": "stderr",
     "output_type": "stream",
     "text": [
      "100%|██████████| 2/2 [00:02<00:00,  1.38s/it, epoch=0, loss=5.4]\n"
     ]
    },
    {
     "name": "stdout",
     "output_type": "stream",
     "text": [
      "write\n"
     ]
    },
    {
     "name": "stderr",
     "output_type": "stream",
     "text": [
      "100%|██████████| 2/2 [00:02<00:00,  1.43s/it, epoch=0, loss=3.87]\n"
     ]
    },
    {
     "name": "stdout",
     "output_type": "stream",
     "text": [
      "write\n"
     ]
    },
    {
     "name": "stderr",
     "output_type": "stream",
     "text": [
      "100%|██████████| 2/2 [00:02<00:00,  1.39s/it, epoch=0, loss=4.14]\n"
     ]
    },
    {
     "name": "stdout",
     "output_type": "stream",
     "text": [
      "write\n"
     ]
    },
    {
     "name": "stderr",
     "output_type": "stream",
     "text": [
      "100%|██████████| 2/2 [00:02<00:00,  1.42s/it, epoch=0, loss=5.54]\n"
     ]
    },
    {
     "name": "stdout",
     "output_type": "stream",
     "text": [
      "write\n"
     ]
    },
    {
     "name": "stderr",
     "output_type": "stream",
     "text": [
      "100%|██████████| 2/2 [00:02<00:00,  1.31s/it, epoch=0, loss=4.13]\n"
     ]
    },
    {
     "name": "stdout",
     "output_type": "stream",
     "text": [
      "write\n"
     ]
    },
    {
     "name": "stderr",
     "output_type": "stream",
     "text": [
      "100%|██████████| 2/2 [00:02<00:00,  1.40s/it, epoch=0, loss=4.61]\n"
     ]
    },
    {
     "name": "stdout",
     "output_type": "stream",
     "text": [
      "write\n"
     ]
    },
    {
     "name": "stderr",
     "output_type": "stream",
     "text": [
      "100%|██████████| 2/2 [00:02<00:00,  1.37s/it, epoch=0, loss=5.9]\n"
     ]
    },
    {
     "name": "stdout",
     "output_type": "stream",
     "text": [
      "write\n"
     ]
    },
    {
     "name": "stderr",
     "output_type": "stream",
     "text": [
      "100%|██████████| 2/2 [00:02<00:00,  1.41s/it, epoch=0, loss=5.61]\n"
     ]
    },
    {
     "name": "stdout",
     "output_type": "stream",
     "text": [
      "write\n"
     ]
    },
    {
     "name": "stderr",
     "output_type": "stream",
     "text": [
      "100%|██████████| 2/2 [00:02<00:00,  1.41s/it, epoch=0, loss=5.71]\n"
     ]
    },
    {
     "name": "stdout",
     "output_type": "stream",
     "text": [
      "write\n"
     ]
    },
    {
     "name": "stderr",
     "output_type": "stream",
     "text": [
      "100%|██████████| 2/2 [00:02<00:00,  1.30s/it, epoch=0, loss=5.1]\n"
     ]
    },
    {
     "name": "stdout",
     "output_type": "stream",
     "text": [
      "write\n"
     ]
    },
    {
     "name": "stderr",
     "output_type": "stream",
     "text": [
      "100%|██████████| 2/2 [00:02<00:00,  1.39s/it, epoch=0, loss=4.09]\n"
     ]
    },
    {
     "name": "stdout",
     "output_type": "stream",
     "text": [
      "write\n"
     ]
    },
    {
     "name": "stderr",
     "output_type": "stream",
     "text": [
      "100%|██████████| 2/2 [00:02<00:00,  1.39s/it, epoch=0, loss=4.74]\n"
     ]
    },
    {
     "name": "stdout",
     "output_type": "stream",
     "text": [
      "write\n"
     ]
    },
    {
     "name": "stderr",
     "output_type": "stream",
     "text": [
      "100%|██████████| 2/2 [00:02<00:00,  1.40s/it, epoch=0, loss=5.29]\n"
     ]
    },
    {
     "name": "stdout",
     "output_type": "stream",
     "text": [
      "write\n"
     ]
    },
    {
     "name": "stderr",
     "output_type": "stream",
     "text": [
      "100%|██████████| 2/2 [00:02<00:00,  1.40s/it, epoch=0, loss=3.76]\n"
     ]
    },
    {
     "name": "stdout",
     "output_type": "stream",
     "text": [
      "write\n"
     ]
    },
    {
     "name": "stderr",
     "output_type": "stream",
     "text": [
      "100%|██████████| 2/2 [00:02<00:00,  1.38s/it, epoch=0, loss=4.43]\n"
     ]
    },
    {
     "name": "stdout",
     "output_type": "stream",
     "text": [
      "--- Execution time : 96.9 seconds ---\n"
     ]
    },
    {
     "data": {
      "image/png": "[encoded data removed]",
      "text/plain": [
       "<Figure size 640x480 with 1 Axes>"
      ]
     },
     "metadata": {},
     "output_type": "display_data"
    },
    {
     "data": {
      "text/html": [
       "<div>\n",
       "<style scoped>\n",
       "    .dataframe tbody tr th:only-of-type {\n",
       "        vertical-align: middle;\n",
       "    }\n",
       "\n",
       "    .dataframe tbody tr th {\n",
       "        vertical-align: top;\n",
       "    }\n",
       "\n",
       "    .dataframe thead th {\n",
       "        text-align: right;\n",
       "    }\n",
       "</style>\n",
       "<table border=\"1\" class=\"dataframe\">\n",
       "  <thead>\n",
       "    <tr style=\"text-align: right;\">\n",
       "      <th></th>\n",
       "      <th>0</th>\n",
       "      <th>1</th>\n",
       "      <th>2</th>\n",
       "    </tr>\n",
       "  </thead>\n",
       "  <tbody>\n",
       "    <tr>\n",
       "      <th>0</th>\n",
       "      <td>perception complexity</td>\n",
       "      <td>prediction error</td>\n",
       "      <td>1.620780e-07</td>\n",
       "    </tr>\n",
       "    <tr>\n",
       "      <th>1</th>\n",
       "      <td>perception complexity</td>\n",
       "      <td>planning error</td>\n",
       "      <td>1.054460e-02</td>\n",
       "    </tr>\n",
       "    <tr>\n",
       "      <th>2</th>\n",
       "      <td>perception complexity</td>\n",
       "      <td>accident</td>\n",
       "      <td>1.736871e-07</td>\n",
       "    </tr>\n",
       "    <tr>\n",
       "      <th>3</th>\n",
       "      <td>prediction error</td>\n",
       "      <td>ignore priority</td>\n",
       "      <td>2.174806e-07</td>\n",
       "    </tr>\n",
       "    <tr>\n",
       "      <th>4</th>\n",
       "      <td>planning error</td>\n",
       "      <td>ignore priority</td>\n",
       "      <td>2.853730e-05</td>\n",
       "    </tr>\n",
       "    <tr>\n",
       "      <th>5</th>\n",
       "      <td>planning error</td>\n",
       "      <td>execution error</td>\n",
       "      <td>4.709282e-05</td>\n",
       "    </tr>\n",
       "    <tr>\n",
       "      <th>6</th>\n",
       "      <td>ignore priority</td>\n",
       "      <td>non-caution predictor</td>\n",
       "      <td>1.460896e-07</td>\n",
       "    </tr>\n",
       "    <tr>\n",
       "      <th>7</th>\n",
       "      <td>ignore decision</td>\n",
       "      <td>yield decision</td>\n",
       "      <td>7.821727e-07</td>\n",
       "    </tr>\n",
       "    <tr>\n",
       "      <th>8</th>\n",
       "      <td>ignore decision</td>\n",
       "      <td>execution error</td>\n",
       "      <td>2.797597e-07</td>\n",
       "    </tr>\n",
       "    <tr>\n",
       "      <th>9</th>\n",
       "      <td>yield decision</td>\n",
       "      <td>overtake decision</td>\n",
       "      <td>4.792169e-07</td>\n",
       "    </tr>\n",
       "  </tbody>\n",
       "</table>\n",
       "</div>"
      ],
      "text/plain": [
       "                       0                      1             2\n",
       "0  perception complexity       prediction error  1.620780e-07\n",
       "1  perception complexity         planning error  1.054460e-02\n",
       "2  perception complexity               accident  1.736871e-07\n",
       "3       prediction error        ignore priority  2.174806e-07\n",
       "4         planning error        ignore priority  2.853730e-05\n",
       "5         planning error        execution error  4.709282e-05\n",
       "6        ignore priority  non-caution predictor  1.460896e-07\n",
       "7        ignore decision         yield decision  7.821727e-07\n",
       "8        ignore decision        execution error  2.797597e-07\n",
       "9         yield decision      overtake decision  4.792169e-07"
      ]
     },
     "execution_count": 3,
     "metadata": {},
     "output_type": "execute_result"
    }
   ],
   "source": [
    "from cdt.independence.graph import FSGNN\n",
    "import pickle \n",
    "print('start')\n",
    "Fsgnn = FSGNN(train_epochs=1, test_epochs=1, l1=0.1, batch_size=1000,njobs=1)\n",
    "print('train')\n",
    "start_time = time.time()\n",
    "ugraph = Fsgnn.predict(data, threshold=1e-7)\n",
    "print(\"--- Execution time : %4.4s seconds ---\" % (time.time() - start_time))\n",
    "# try:\n",
    "#     with open('model1.pkl', 'wb') as file:\n",
    "#         pickle.dump(Fsgnn, file)\n",
    "# except:\n",
    "#     print('Error!!!!')\n",
    "#     pass  \n",
    "nx.draw_networkx(ugraph, font_size=8) # The plot function allows for quick visualization of the graph.\n",
    "plt.show()\n",
    "# List results\n",
    "pd.DataFrame(list(ugraph.edges(data='weight')))"
   ]
  },
  {
   "cell_type": "code",
   "execution_count": 30,
   "metadata": {},
   "outputs": [
    {
     "data": {
      "image/png": "[encoded data removed]",
      "text/plain": [
       "<Figure size 640x480 with 1 Axes>"
      ]
     },
     "metadata": {},
     "output_type": "display_data"
    },
    {
     "name": "stdout",
     "output_type": "stream",
     "text": [
      "                        0                      1         2\n",
      "0   perception complexity        ignore priority  0.033409\n",
      "1   perception complexity               accident  0.012198\n",
      "2         ignore priority       prediction error  0.011191\n",
      "3         ignore priority        follow decision  0.027489\n",
      "4         ignore priority         yield decision  0.031950\n",
      "5         ignore priority      overtake decision  0.001103\n",
      "6         ignore priority        execution error  0.146600\n",
      "7         ignore priority               accident  0.067202\n",
      "8                accident  non-caution predictor  0.011503\n",
      "9                accident        ignore decision  0.014562\n",
      "10               accident         planning error  0.008105\n",
      "11               accident        execution error  0.002545\n",
      "12       prediction error         yield decision  0.010445\n",
      "13       prediction error      overtake decision  0.001518\n",
      "14        follow decision  non-caution predictor  0.021695\n",
      "15        follow decision         yield decision  0.015868\n",
      "16        follow decision      overtake decision  0.001828\n",
      "17        follow decision        execution error  0.018475\n",
      "18         yield decision        ignore decision  0.000234\n",
      "19         yield decision      overtake decision  0.007500\n",
      "20         yield decision         planning error  0.011688\n",
      "21      overtake decision         planning error  0.016762\n",
      "22      overtake decision        execution error  0.033990\n",
      "23        execution error         planning error  0.082837\n",
      "24  non-caution predictor        ignore decision  0.009729\n",
      "25  non-caution predictor         planning error  0.000765\n",
      "26        ignore decision         planning error  0.003553\n"
     ]
    }
   ],
   "source": [
    "# nx.draw_networkx(ugraph, font_size=8) # The plot function allows for quick visualization of the graph.\n",
    "# plt.show()\n",
    "# # List results\n",
    "# df = pd.DataFrame(list(ugraph.edges(data='weight')))\n",
    "# print(df)\n",
    "# df.to_csv('E:\\homework\\desktop\\hw\\CS280-作业\\project\\A_results\\\\'+'A'+name+'.csv')"
   ]
  },
  {
   "cell_type": "code",
   "execution_count": 4,
   "metadata": {},
   "outputs": [
    {
     "name": "stderr",
     "output_type": "stream",
     "text": [
      "  0%|          | 0/2 [00:00<?, ?it/s]"
     ]
    },
    {
     "name": "stderr",
     "output_type": "stream",
     "text": [
      "100%|██████████| 2/2 [00:02<00:00,  1.19s/it, idx=0, score=1.11]\n",
      "100%|██████████| 2/2 [00:02<00:00,  1.28s/it, idx=0, score=1.63]\n",
      "100%|██████████| 2/2 [00:02<00:00,  1.28s/it, idx=0, score=1.19]\n",
      "100%|██████████| 2/2 [00:02<00:00,  1.29s/it, idx=0, score=0.805]\n",
      "100%|██████████| 2/2 [00:02<00:00,  1.35s/it, idx=0, score=0.424]\n",
      "100%|██████████| 2/2 [00:02<00:00,  1.23s/it, idx=0, score=1.24]\n",
      "100%|██████████| 2/2 [00:02<00:00,  1.30s/it, idx=0, score=0.963]\n",
      "100%|██████████| 2/2 [00:02<00:00,  1.27s/it, idx=0, score=1.61]\n",
      "100%|██████████| 2/2 [00:02<00:00,  1.30s/it, idx=0, score=0.147]\n",
      "100%|██████████| 2/2 [00:02<00:00,  1.27s/it, idx=0, score=0.999]\n",
      "100%|██████████| 2/2 [00:02<00:00,  1.22s/it, idx=0, score=0.486]\n",
      "100%|██████████| 2/2 [00:02<00:00,  1.26s/it, idx=0, score=1.72]\n",
      "100%|██████████| 2/2 [00:02<00:00,  1.27s/it, idx=0, score=0.763]\n",
      "100%|██████████| 2/2 [00:02<00:00,  1.26s/it, idx=0, score=1.52]\n",
      "100%|██████████| 2/2 [00:02<00:00,  1.28s/it, idx=0, score=0.526]\n",
      "100%|██████████| 2/2 [00:02<00:00,  1.31s/it, idx=0, score=0.783]\n",
      "100%|██████████| 2/2 [00:02<00:00,  1.25s/it, idx=0, score=0.753]\n",
      "100%|██████████| 2/2 [00:02<00:00,  1.34s/it, idx=0, score=0.999]\n",
      "100%|██████████| 2/2 [00:02<00:00,  1.30s/it, idx=0, score=0.368]\n",
      "100%|██████████| 2/2 [00:02<00:00,  1.27s/it, idx=0, score=1.72]\n",
      "100%|██████████| 2/2 [00:02<00:00,  1.28s/it, idx=0, score=0.401]\n",
      "100%|██████████| 2/2 [00:02<00:00,  1.29s/it, idx=0, score=1.66]\n",
      "100%|██████████| 2/2 [00:02<00:00,  1.20s/it, idx=0, score=0.352]\n",
      "100%|██████████| 2/2 [00:02<00:00,  1.26s/it, idx=0, score=2.65]\n",
      "100%|██████████| 2/2 [00:02<00:00,  1.29s/it, idx=0, score=0.576]\n",
      "100%|██████████| 2/2 [00:02<00:00,  1.30s/it, idx=0, score=2.05]\n",
      "100%|██████████| 2/2 [00:02<00:00,  1.27s/it, idx=0, score=0.884]\n",
      "100%|██████████| 2/2 [00:02<00:00,  1.21s/it, idx=0, score=1.98]\n",
      "100%|██████████| 2/2 [00:02<00:00,  1.28s/it, idx=0, score=1.02]\n",
      "100%|██████████| 2/2 [00:02<00:00,  1.26s/it, idx=0, score=1.63]\n",
      "100%|██████████| 2/2 [00:02<00:00,  1.29s/it, idx=0, score=1.14]\n",
      "100%|██████████| 2/2 [00:02<00:00,  1.28s/it, idx=0, score=1.21]\n",
      "100%|██████████| 2/2 [00:02<00:00,  1.22s/it, idx=0, score=0.796]\n",
      "100%|██████████| 2/2 [00:02<00:00,  1.31s/it, idx=0, score=0.763]\n",
      "100%|██████████| 2/2 [00:02<00:00,  1.28s/it, idx=0, score=0.321]\n",
      "100%|██████████| 2/2 [00:02<00:00,  1.24s/it, idx=0, score=1.09]\n",
      "100%|██████████| 2/2 [00:02<00:00,  1.25s/it, idx=0, score=0.972]\n",
      "100%|██████████| 2/2 [00:02<00:00,  1.17s/it, idx=0, score=1.47]\n",
      "100%|██████████| 2/2 [00:02<00:00,  1.27s/it, idx=0, score=0.314]\n",
      "100%|██████████| 2/2 [00:02<00:00,  1.46s/it, idx=0, score=0.624]\n",
      "100%|██████████| 2/2 [00:02<00:00,  1.29s/it, idx=0, score=0.137]\n",
      "100%|██████████| 2/2 [00:02<00:00,  1.14s/it, idx=0, score=1.84]\n",
      "100%|██████████| 2/2 [00:02<00:00,  1.29s/it, idx=0, score=0.354]\n",
      "100%|██████████| 2/2 [00:02<00:00,  1.15s/it, idx=0, score=0.395]\n",
      "100%|██████████| 2/2 [00:02<00:00,  1.25s/it, idx=0, score=0.0564]\n",
      "100%|██████████| 2/2 [00:02<00:00,  1.20s/it, idx=0, score=1.07]\n",
      "100%|██████████| 2/2 [00:02<00:00,  1.30s/it, idx=0, score=0.991]\n",
      "100%|██████████| 2/2 [00:02<00:00,  1.24s/it, idx=0, score=2.15]\n",
      "100%|██████████| 2/2 [00:02<00:00,  1.12s/it, idx=0, score=0.136]\n",
      "100%|██████████| 2/2 [00:02<00:00,  1.16s/it, idx=0, score=0.886]\n",
      "100%|██████████| 2/2 [00:02<00:00,  1.24s/it, idx=0, score=0.704]\n",
      "100%|██████████| 2/2 [00:02<00:00,  1.16s/it, idx=0, score=1.18]\n",
      "100%|██████████| 2/2 [00:02<00:00,  1.14s/it, idx=0, score=0.124]\n",
      "100%|██████████| 2/2 [00:02<00:00,  1.12s/it, idx=0, score=2.35]\n",
      "100%|██████████| 2/2 [00:02<00:00,  1.20s/it, idx=0, score=0.235]\n",
      "100%|██████████| 2/2 [00:02<00:00,  1.21s/it, idx=0, score=0.395]\n",
      "100%|██████████| 2/2 [00:02<00:00,  1.16s/it, idx=0, score=0.659]\n",
      "100%|██████████| 2/2 [00:02<00:00,  1.14s/it, idx=0, score=1.23]\n",
      "100%|██████████| 2/2 [00:02<00:00,  1.09s/it, idx=0, score=1.19]\n",
      "100%|██████████| 2/2 [00:02<00:00,  1.14s/it, idx=0, score=0.346]\n",
      "100%|██████████| 2/2 [00:02<00:00,  1.13s/it, idx=0, score=0.185]\n",
      "100%|██████████| 2/2 [00:02<00:00,  1.15s/it, idx=0, score=2.45]\n",
      "100%|██████████| 2/2 [00:02<00:00,  1.20s/it, idx=0, score=0.689]\n",
      "100%|██████████| 2/2 [00:02<00:00,  1.08s/it, idx=0, score=1.63]\n",
      "100%|██████████| 2/2 [00:02<00:00,  1.14s/it, idx=0, score=0.734]\n",
      "100%|██████████| 2/2 [00:02<00:00,  1.18s/it, idx=0, score=0.791]\n",
      "100%|██████████| 2/2 [00:02<00:00,  1.18s/it, idx=0, score=0.532]\n",
      "100%|██████████| 2/2 [00:02<00:00,  1.20s/it, idx=0, score=0.345]\n",
      "100%|██████████| 2/2 [00:02<00:00,  1.13s/it, idx=0, score=0.781]\n",
      "100%|██████████| 2/2 [00:02<00:00,  1.07s/it, idx=0, score=0.534]\n",
      "100%|██████████| 2/2 [00:02<00:00,  1.18s/it, idx=0, score=0.737]\n",
      "100%|██████████| 2/2 [00:02<00:00,  1.15s/it, idx=0, score=0.6]\n",
      "100%|██████████| 2/2 [00:02<00:00,  1.19s/it, idx=0, score=0.633]\n",
      "100%|██████████| 2/2 [00:02<00:00,  1.14s/it, idx=0, score=0.525]\n",
      "100%|██████████| 2/2 [00:02<00:00,  1.11s/it, idx=0, score=0.606]\n",
      "100%|██████████| 2/2 [00:02<00:00,  1.19s/it, idx=0, score=0.239]\n",
      "100%|██████████| 2/2 [00:02<00:00,  1.23s/it, idx=0, score=0.847]\n",
      "100%|██████████| 2/2 [00:02<00:00,  1.17s/it, idx=0, score=0.448]\n",
      "100%|██████████| 2/2 [00:02<00:00,  1.17s/it, idx=0, score=0.728]\n",
      "100%|██████████| 2/2 [00:02<00:00,  1.10s/it, idx=0, score=0.59]\n",
      "100%|██████████| 2/2 [00:02<00:00,  1.29s/it, idx=0, score=0.855]\n",
      "100%|██████████| 2/2 [00:02<00:00,  1.19s/it, idx=0, score=0.52]\n",
      "100%|██████████| 2/2 [00:02<00:00,  1.14s/it, idx=0, score=0.773]\n",
      "100%|██████████| 2/2 [00:02<00:00,  1.20s/it, idx=0, score=0.415]\n",
      "100%|██████████| 2/2 [00:02<00:00,  1.10s/it, idx=0, score=0.761]\n",
      "100%|██████████| 2/2 [00:02<00:00,  1.16s/it, idx=0, score=0.382]\n",
      "100%|██████████| 2/2 [00:02<00:00,  1.23s/it, idx=0, score=0.8]\n",
      "100%|██████████| 2/2 [00:02<00:00,  1.26s/it, idx=0, score=0.743]\n",
      "100%|██████████| 2/2 [00:02<00:00,  1.21s/it, idx=0, score=0.641]\n",
      "100%|██████████| 2/2 [00:02<00:00,  1.27s/it, idx=0, score=0.722]\n",
      "100%|██████████| 2/2 [00:02<00:00,  1.16s/it, idx=0, score=0.467]\n",
      "100%|██████████| 2/2 [00:02<00:00,  1.26s/it, idx=0, score=0.461]\n",
      "100%|██████████| 2/2 [00:02<00:00,  1.15s/it, idx=0, score=0.562]\n",
      "100%|██████████| 2/2 [00:02<00:00,  1.18s/it, idx=0, score=0.229]\n",
      "100%|██████████| 2/2 [00:02<00:00,  1.15s/it, idx=0, score=0.668]\n",
      "100%|██████████| 2/2 [00:02<00:00,  1.12s/it, idx=0, score=0.555]\n",
      "100%|██████████| 2/2 [00:02<00:00,  1.16s/it, idx=0, score=0.866]\n",
      "100%|██████████| 2/2 [00:02<00:00,  1.25s/it, idx=0, score=0.462]\n",
      "100%|██████████| 2/2 [00:02<00:00,  1.20s/it, idx=0, score=0.71]\n",
      "100%|██████████| 2/2 [00:02<00:00,  1.13s/it, idx=0, score=0.768]\n",
      "100%|██████████| 2/2 [00:02<00:00,  1.08s/it, idx=0, score=0.697]\n",
      "100%|██████████| 2/2 [00:02<00:00,  1.13s/it, idx=0, score=0.615]\n",
      "100%|██████████| 2/2 [00:02<00:00,  1.13s/it, idx=0, score=0.785]\n",
      "100%|██████████| 2/2 [00:02<00:00,  1.13s/it, idx=0, score=1]\n",
      "100%|██████████| 2/2 [00:02<00:00,  1.14s/it, idx=0, score=0.783]\n",
      "100%|██████████| 2/2 [00:02<00:00,  1.15s/it, idx=0, score=0.389]\n",
      "100%|██████████| 2/2 [00:02<00:00,  1.10s/it, idx=0, score=0.603]\n",
      "100%|██████████| 2/2 [00:02<00:00,  1.11s/it, idx=0, score=0.505]\n",
      "100%|██████████| 2/2 [00:02<00:00,  1.14s/it, idx=0, score=0.704]\n",
      "100%|██████████| 2/2 [00:02<00:00,  1.15s/it, idx=0, score=0.552]\n",
      "100%|██████████| 2/2 [00:02<00:00,  1.15s/it, idx=0, score=0.801]\n",
      "100%|██████████| 2/2 [00:02<00:00,  1.12s/it, idx=0, score=0.428]\n",
      "100%|██████████| 2/2 [00:02<00:00,  1.13s/it, idx=0, score=0.656]\n",
      "100%|██████████| 2/2 [00:02<00:00,  1.20s/it, idx=0, score=0.507]\n",
      "100%|██████████| 2/2 [00:02<00:00,  1.12s/it, idx=0, score=0.658]\n",
      "100%|██████████| 2/2 [00:02<00:00,  1.26s/it, idx=0, score=0.699]\n",
      "100%|██████████| 2/2 [00:02<00:00,  1.11s/it, idx=0, score=0.854]\n",
      "100%|██████████| 2/2 [00:02<00:00,  1.14s/it, idx=0, score=0.848]\n",
      "100%|██████████| 2/2 [00:02<00:00,  1.15s/it, idx=0, score=0.411]\n",
      "100%|██████████| 2/2 [00:02<00:00,  1.22s/it, idx=0, score=1.03]\n",
      "100%|██████████| 2/2 [00:02<00:00,  1.19s/it, idx=0, score=0.855]\n",
      "100%|██████████| 2/2 [00:02<00:00,  1.09s/it, idx=0, score=0.279]\n",
      "100%|██████████| 2/2 [00:02<00:00,  1.12s/it, idx=0, score=0.526]\n",
      "100%|██████████| 2/2 [00:02<00:00,  1.14s/it, idx=0, score=0.446]\n",
      "100%|██████████| 2/2 [00:02<00:00,  1.24s/it, idx=0, score=0.878]\n",
      "100%|██████████| 2/2 [00:02<00:00,  1.28s/it, idx=0, score=0.611]\n",
      "100%|██████████| 2/2 [00:02<00:00,  1.22s/it, idx=0, score=0.626]\n",
      "100%|██████████| 2/2 [00:02<00:00,  1.11s/it, idx=0, score=0.397]\n",
      "100%|██████████| 2/2 [00:02<00:00,  1.34s/it, idx=0, score=0.37]\n",
      "100%|██████████| 2/2 [00:02<00:00,  1.28s/it, idx=0, score=2.44]\n",
      "100%|██████████| 2/2 [00:02<00:00,  1.27s/it, idx=0, score=0.953]\n",
      "100%|██████████| 2/2 [00:02<00:00,  1.35s/it, idx=0, score=1.68]\n",
      "100%|██████████| 2/2 [00:02<00:00,  1.16s/it, idx=0, score=0.944]\n",
      "100%|██████████| 2/2 [00:02<00:00,  1.23s/it, idx=0, score=1.85]\n",
      "100%|██████████| 2/2 [00:02<00:00,  1.26s/it, idx=0, score=0.27]\n",
      "100%|██████████| 2/2 [00:02<00:00,  1.32s/it, idx=0, score=2.63]\n",
      "100%|██████████| 2/2 [00:02<00:00,  1.27s/it, idx=0, score=0.213]\n",
      "100%|██████████| 2/2 [00:02<00:00,  1.11s/it, idx=0, score=1.39]\n",
      "100%|██████████| 2/2 [00:02<00:00,  1.23s/it, idx=0, score=0.716]\n",
      "100%|██████████| 2/2 [00:02<00:00,  1.13s/it, idx=0, score=2.66]\n",
      "100%|██████████| 2/2 [00:02<00:00,  1.20s/it, idx=0, score=0.478]\n",
      "100%|██████████| 2/2 [00:02<00:00,  1.18s/it, idx=0, score=0.584]\n",
      "100%|██████████| 2/2 [00:02<00:00,  1.18s/it, idx=0, score=1.22]\n",
      "100%|██████████| 2/2 [00:02<00:00,  1.17s/it, idx=0, score=2.49]\n",
      "100%|██████████| 2/2 [00:02<00:00,  1.20s/it, idx=0, score=0.917]\n",
      "100%|██████████| 2/2 [00:02<00:00,  1.24s/it, idx=0, score=0.908]\n",
      "100%|██████████| 2/2 [00:02<00:00,  1.17s/it, idx=0, score=0.786]\n",
      "100%|██████████| 2/2 [00:02<00:00,  1.21s/it, idx=0, score=0.372]\n",
      "100%|██████████| 2/2 [00:02<00:00,  1.15s/it, idx=0, score=0.876]\n",
      "100%|██████████| 2/2 [00:02<00:00,  1.25s/it, idx=0, score=2.36]\n",
      "100%|██████████| 2/2 [00:02<00:00,  1.40s/it, idx=0, score=0.396]\n",
      "100%|██████████| 2/2 [00:02<00:00,  1.32s/it, idx=0, score=1.99]\n",
      "100%|██████████| 2/2 [00:02<00:00,  1.34s/it, idx=0, score=0.128]\n",
      "100%|██████████| 2/2 [00:02<00:00,  1.20s/it, idx=0, score=2]\n",
      "100%|██████████| 2/2 [00:02<00:00,  1.29s/it, idx=0, score=0.02]\n",
      "100%|██████████| 2/2 [00:02<00:00,  1.15s/it, idx=0, score=1.57]\n",
      "100%|██████████| 2/2 [00:02<00:00,  1.31s/it, idx=0, score=0.599]\n",
      "100%|██████████| 2/2 [00:02<00:00,  1.25s/it, idx=0, score=2.35]\n",
      "100%|██████████| 2/2 [00:02<00:00,  1.12s/it, idx=0, score=1.17]\n",
      "100%|██████████| 2/2 [00:02<00:00,  1.16s/it, idx=0, score=0.608]\n",
      "100%|██████████| 2/2 [00:02<00:00,  1.14s/it, idx=0, score=0.513]\n",
      "100%|██████████| 2/2 [00:02<00:00,  1.14s/it, idx=0, score=2.1]\n",
      "100%|██████████| 2/2 [00:02<00:00,  1.22s/it, idx=0, score=0.126]\n",
      "100%|██████████| 2/2 [00:02<00:00,  1.18s/it, idx=0, score=1.24]\n",
      "100%|██████████| 2/2 [00:02<00:00,  1.16s/it, idx=0, score=0.634]\n",
      "100%|██████████| 2/2 [00:02<00:00,  1.22s/it, idx=0, score=1.45]\n",
      "100%|██████████| 2/2 [00:02<00:00,  1.21s/it, idx=0, score=0.474]\n",
      "100%|██████████| 2/2 [00:02<00:00,  1.14s/it, idx=0, score=2.58]\n",
      "100%|██████████| 2/2 [00:02<00:00,  1.14s/it, idx=0, score=0.12]\n",
      "100%|██████████| 2/2 [00:02<00:00,  1.08s/it, idx=0, score=1.52]\n",
      "100%|██████████| 2/2 [00:02<00:00,  1.13s/it, idx=0, score=0.507]\n",
      "100%|██████████| 2/2 [00:02<00:00,  1.15s/it, idx=0, score=1.76]\n",
      "100%|██████████| 2/2 [00:02<00:00,  1.16s/it, idx=0, score=0.306]\n",
      "100%|██████████| 2/2 [00:02<00:00,  1.20s/it, idx=0, score=2.11]\n",
      "100%|██████████| 2/2 [00:02<00:00,  1.19s/it, idx=0, score=0.291]\n",
      "100%|██████████| 2/2 [00:02<00:00,  1.14s/it, idx=0, score=1.39]\n",
      "100%|██████████| 2/2 [00:02<00:00,  1.13s/it, idx=0, score=0.688]\n",
      "100%|██████████| 2/2 [00:02<00:00,  1.25s/it, idx=0, score=1.88]\n",
      "100%|██████████| 2/2 [00:02<00:00,  1.16s/it, idx=0, score=0.329]\n",
      "100%|██████████| 2/2 [00:02<00:00,  1.14s/it, idx=0, score=1.65]\n",
      "100%|██████████| 2/2 [00:02<00:00,  1.25s/it, idx=0, score=0.107]\n",
      "100%|██████████| 2/2 [00:02<00:00,  1.22s/it, idx=0, score=1.84]\n",
      "100%|██████████| 2/2 [00:02<00:00,  1.17s/it, idx=0, score=0.595]\n",
      "100%|██████████| 2/2 [00:02<00:00,  1.19s/it, idx=0, score=0.463]\n",
      "100%|██████████| 2/2 [00:02<00:00,  1.16s/it, idx=0, score=0.745]\n",
      "100%|██████████| 2/2 [00:02<00:00,  1.17s/it, idx=0, score=0.883]\n",
      "100%|██████████| 2/2 [00:02<00:00,  1.16s/it, idx=0, score=0.674]\n",
      "100%|██████████| 2/2 [00:02<00:00,  1.14s/it, idx=0, score=1.26]\n",
      "100%|██████████| 2/2 [00:02<00:00,  1.18s/it, idx=0, score=0.489]\n",
      "100%|██████████| 2/2 [00:02<00:00,  1.13s/it, idx=0, score=2.12]\n",
      "100%|██████████| 2/2 [00:02<00:00,  1.09s/it, idx=0, score=0.75]\n",
      "100%|██████████| 2/2 [00:02<00:00,  1.17s/it, idx=0, score=1.36]\n",
      "100%|██████████| 2/2 [00:02<00:00,  1.22s/it, idx=0, score=2.11]\n",
      "100%|██████████| 2/2 [00:02<00:00,  1.27s/it, idx=0, score=0.0676]\n",
      "100%|██████████| 2/2 [00:02<00:00,  1.35s/it, idx=0, score=1.78]\n",
      "100%|██████████| 2/2 [00:02<00:00,  1.23s/it, idx=0, score=1.02]\n",
      "100%|██████████| 2/2 [00:02<00:00,  1.31s/it, idx=0, score=1.73]\n",
      "100%|██████████| 2/2 [00:02<00:00,  1.30s/it, idx=0, score=1.35]\n",
      "100%|██████████| 2/2 [00:02<00:00,  1.25s/it, idx=0, score=1.44]\n",
      "100%|██████████| 2/2 [00:02<00:00,  1.25s/it, idx=0, score=0.34]\n",
      "100%|██████████| 2/2 [00:02<00:00,  1.21s/it, idx=0, score=1.52]\n",
      "100%|██████████| 2/2 [00:02<00:00,  1.14s/it, idx=0, score=0.251]\n",
      "100%|██████████| 2/2 [00:02<00:00,  1.20s/it, idx=0, score=1.4]\n",
      "100%|██████████| 2/2 [00:02<00:00,  1.13s/it, idx=0, score=0.785]\n",
      "100%|██████████| 2/2 [00:02<00:00,  1.14s/it, idx=0, score=2.06]\n",
      "100%|██████████| 2/2 [00:02<00:00,  1.08s/it, idx=0, score=0.534]\n",
      "100%|██████████| 2/2 [00:02<00:00,  1.16s/it, idx=0, score=0.83]\n",
      "100%|██████████| 2/2 [00:02<00:00,  1.19s/it, idx=0, score=0.572]\n",
      "100%|██████████| 2/2 [00:02<00:00,  1.12s/it, idx=0, score=1.65]\n",
      "100%|██████████| 2/2 [00:02<00:00,  1.28s/it, idx=0, score=0.305]\n",
      "100%|██████████| 2/2 [00:02<00:00,  1.16s/it, idx=0, score=0.906]\n",
      "100%|██████████| 2/2 [00:02<00:00,  1.22s/it, idx=0, score=1.05]\n",
      "100%|██████████| 2/2 [00:02<00:00,  1.31s/it, idx=0, score=1.12]\n",
      "100%|██████████| 2/2 [00:02<00:00,  1.16s/it, idx=0, score=0.401]\n",
      "100%|██████████| 2/2 [00:02<00:00,  1.12s/it, idx=0, score=2.16]\n",
      "100%|██████████| 2/2 [00:02<00:00,  1.49s/it, idx=0, score=0.189]\n",
      "100%|██████████| 2/2 [00:02<00:00,  1.09s/it, idx=0, score=1.9]\n",
      "100%|██████████| 2/2 [00:02<00:00,  1.22s/it, idx=0, score=0.558]\n",
      "100%|██████████| 2/2 [00:02<00:00,  1.16s/it, idx=0, score=2.02]\n",
      "100%|██████████| 2/2 [00:02<00:00,  1.21s/it, idx=0, score=0.246]\n",
      "100%|██████████| 2/2 [00:02<00:00,  1.23s/it, idx=0, score=1.62]\n",
      "100%|██████████| 2/2 [00:02<00:00,  1.14s/it, idx=0, score=0.961]\n",
      "100%|██████████| 2/2 [00:02<00:00,  1.16s/it, idx=0, score=1.9]\n",
      "100%|██████████| 2/2 [00:02<00:00,  1.21s/it, idx=0, score=1.02]\n",
      "100%|██████████| 2/2 [00:02<00:00,  1.23s/it, idx=0, score=1.78]\n",
      "100%|██████████| 2/2 [00:02<00:00,  1.23s/it, idx=0, score=0.453]\n",
      "100%|██████████| 2/2 [00:02<00:00,  1.07s/it, idx=0, score=2.02]\n",
      "100%|██████████| 2/2 [00:02<00:00,  1.21s/it, idx=0, score=0.181]\n",
      "100%|██████████| 2/2 [00:02<00:00,  1.23s/it, idx=0, score=1.62]\n",
      "100%|██████████| 2/2 [00:02<00:00,  1.18s/it, idx=0, score=1.19]\n",
      "100%|██████████| 2/2 [00:02<00:00,  1.14s/it, idx=0, score=1.65]\n",
      "100%|██████████| 2/2 [00:02<00:00,  1.15s/it, idx=0, score=0.0824]\n",
      "100%|██████████| 2/2 [00:02<00:00,  1.12s/it, idx=0, score=0.664]\n",
      "100%|██████████| 2/2 [00:02<00:00,  1.16s/it, idx=0, score=1.11]\n",
      "100%|██████████| 2/2 [00:02<00:00,  1.14s/it, idx=0, score=1.56]\n",
      "100%|██████████| 2/2 [00:02<00:00,  1.13s/it, idx=0, score=0.378]\n",
      "100%|██████████| 2/2 [00:02<00:00,  1.14s/it, idx=0, score=1.06]\n",
      "100%|██████████| 2/2 [00:02<00:00,  1.08s/it, idx=0, score=0.869]\n",
      "100%|██████████| 2/2 [00:02<00:00,  1.12s/it, idx=0, score=1.57]\n",
      "100%|██████████| 2/2 [00:02<00:00,  1.13s/it, idx=0, score=0.427]\n",
      "100%|██████████| 2/2 [00:02<00:00,  1.29s/it, idx=0, score=1.72]\n",
      "100%|██████████| 2/2 [00:02<00:00,  1.20s/it, idx=0, score=0.939]\n",
      "100%|██████████| 2/2 [00:02<00:00,  1.32s/it, idx=0, score=1.51]\n",
      "100%|██████████| 2/2 [00:02<00:00,  1.27s/it, idx=0, score=0.376]\n",
      "100%|██████████| 2/2 [00:03<00:00,  1.51s/it, idx=0, score=1.67]\n",
      "100%|██████████| 2/2 [00:02<00:00,  1.41s/it, idx=0, score=0.224]\n",
      "100%|██████████| 2/2 [00:02<00:00,  1.25s/it, idx=0, score=0.597]\n",
      "100%|██████████| 2/2 [00:02<00:00,  1.18s/it, idx=0, score=0.725]\n",
      "100%|██████████| 2/2 [00:02<00:00,  1.08s/it, idx=0, score=1.35]\n",
      "100%|██████████| 2/2 [00:02<00:00,  1.14s/it, idx=0, score=0.387]\n",
      "100%|██████████| 2/2 [00:02<00:00,  1.23s/it, idx=0, score=0.572]\n",
      "100%|██████████| 2/2 [00:02<00:00,  1.19s/it, idx=0, score=0.672]\n",
      "100%|██████████| 2/2 [00:02<00:00,  1.34s/it, idx=0, score=1.5]\n",
      "100%|██████████| 2/2 [00:02<00:00,  1.16s/it, idx=0, score=0.887]\n",
      "100%|██████████| 2/2 [00:02<00:00,  1.32s/it, idx=0, score=2.21]\n",
      "100%|██████████| 2/2 [00:02<00:00,  1.20s/it, idx=0, score=0.652]\n",
      "100%|██████████| 2/2 [00:02<00:00,  1.41s/it, idx=0, score=0.527]\n",
      "100%|██████████| 2/2 [00:02<00:00,  1.31s/it, idx=0, score=0.68]\n",
      "100%|██████████| 2/2 [00:02<00:00,  1.31s/it, idx=0, score=0.358]\n",
      "100%|██████████| 2/2 [00:02<00:00,  1.16s/it, idx=0, score=0.863]\n",
      "100%|██████████| 2/2 [00:02<00:00,  1.19s/it, idx=0, score=1.03]\n",
      "100%|██████████| 2/2 [00:02<00:00,  1.17s/it, idx=0, score=0.606]\n",
      "100%|██████████| 2/2 [00:02<00:00,  1.15s/it, idx=0, score=0.71]\n",
      "100%|██████████| 2/2 [00:02<00:00,  1.06s/it, idx=0, score=0.811]\n",
      "100%|██████████| 2/2 [00:02<00:00,  1.14s/it, idx=0, score=0.4]\n",
      "100%|██████████| 2/2 [00:02<00:00,  1.15s/it, idx=0, score=0.856]\n",
      "100%|██████████| 2/2 [00:02<00:00,  1.17s/it, idx=0, score=0.742]\n",
      "100%|██████████| 2/2 [00:02<00:00,  1.16s/it, idx=0, score=0.674]\n",
      "100%|██████████| 2/2 [00:02<00:00,  1.14s/it, idx=0, score=0.565]\n",
      "100%|██████████| 2/2 [00:02<00:00,  1.11s/it, idx=0, score=0.623]\n",
      "100%|██████████| 2/2 [00:02<00:00,  1.13s/it, idx=0, score=0.608]\n",
      "100%|██████████| 2/2 [00:02<00:00,  1.15s/it, idx=0, score=0.865]\n",
      "100%|██████████| 2/2 [00:02<00:00,  1.14s/it, idx=0, score=0.491]\n",
      "100%|██████████| 2/2 [00:02<00:00,  1.21s/it, idx=0, score=0.783]\n",
      "100%|██████████| 2/2 [00:02<00:00,  1.13s/it, idx=0, score=0.713]\n",
      "100%|██████████| 2/2 [00:02<00:00,  1.14s/it, idx=0, score=0.733]\n",
      "100%|██████████| 2/2 [00:02<00:00,  1.16s/it, idx=0, score=0.662]\n",
      "100%|██████████| 2/2 [00:02<00:00,  1.13s/it, idx=0, score=0.882]\n",
      "100%|██████████| 2/2 [00:02<00:00,  1.17s/it, idx=0, score=0.858]\n",
      "100%|██████████| 2/2 [00:02<00:00,  1.07s/it, idx=0, score=0.894]\n",
      "100%|██████████| 2/2 [00:02<00:00,  1.29s/it, idx=0, score=0.676]\n",
      "100%|██████████| 2/2 [00:02<00:00,  1.21s/it, idx=0, score=0.689]\n",
      "100%|██████████| 2/2 [00:02<00:00,  1.28s/it, idx=0, score=0.758]\n",
      "100%|██████████| 2/2 [00:02<00:00,  1.28s/it, idx=0, score=0.63]\n",
      "100%|██████████| 2/2 [00:02<00:00,  1.12s/it, idx=0, score=0.761]\n",
      "100%|██████████| 2/2 [00:02<00:00,  1.13s/it, idx=0, score=0.607]\n",
      "100%|██████████| 2/2 [00:02<00:00,  1.15s/it, idx=0, score=0.794]\n",
      "100%|██████████| 2/2 [00:02<00:00,  1.32s/it, idx=0, score=0.753]\n",
      "100%|██████████| 2/2 [00:02<00:00,  1.20s/it, idx=0, score=0.838]\n",
      "100%|██████████| 2/2 [00:02<00:00,  1.33s/it, idx=0, score=0.772]\n",
      "100%|██████████| 2/2 [00:02<00:00,  1.28s/it, idx=0, score=0.602]\n",
      "100%|██████████| 2/2 [00:02<00:00,  1.39s/it, idx=0, score=0.56]\n",
      "100%|██████████| 2/2 [00:02<00:00,  1.39s/it, idx=0, score=0.684]\n",
      "100%|██████████| 2/2 [00:02<00:00,  1.28s/it, idx=0, score=0.658]\n",
      "100%|██████████| 2/2 [00:02<00:00,  1.36s/it, idx=0, score=0.613]\n",
      "100%|██████████| 2/2 [00:02<00:00,  1.25s/it, idx=0, score=0.625]\n",
      "100%|██████████| 2/2 [00:02<00:00,  1.40s/it, idx=0, score=0.481]\n",
      "100%|██████████| 2/2 [00:02<00:00,  1.43s/it, idx=0, score=0.772]\n",
      "100%|██████████| 2/2 [00:02<00:00,  1.46s/it, idx=0, score=0.542]\n",
      "100%|██████████| 2/2 [00:02<00:00,  1.26s/it, idx=0, score=0.747]\n",
      "100%|██████████| 2/2 [00:02<00:00,  1.45s/it, idx=0, score=0.717]\n",
      "100%|██████████| 2/2 [00:02<00:00,  1.24s/it, idx=0, score=0.638]\n",
      "100%|██████████| 2/2 [00:02<00:00,  1.22s/it, idx=0, score=0.803]\n",
      "100%|██████████| 2/2 [00:02<00:00,  1.18s/it, idx=0, score=0.677]\n",
      "100%|██████████| 2/2 [00:02<00:00,  1.25s/it, idx=0, score=0.781]\n",
      "100%|██████████| 2/2 [00:02<00:00,  1.33s/it, idx=0, score=0.765]\n",
      "100%|██████████| 2/2 [00:02<00:00,  1.27s/it, idx=0, score=0.778]\n",
      "100%|██████████| 2/2 [00:02<00:00,  1.33s/it, idx=0, score=0.769]\n",
      "100%|██████████| 2/2 [00:02<00:00,  1.18s/it, idx=0, score=0.515]\n",
      "100%|██████████| 2/2 [00:02<00:00,  1.29s/it, idx=0, score=0.561]\n",
      "100%|██████████| 2/2 [00:02<00:00,  1.25s/it, idx=0, score=0.643]\n",
      "100%|██████████| 2/2 [00:02<00:00,  1.19s/it, idx=0, score=0.837]\n",
      "100%|██████████| 2/2 [00:02<00:00,  1.23s/it, idx=0, score=0.908]\n",
      "100%|██████████| 2/2 [00:02<00:00,  1.40s/it, idx=0, score=0.653]\n",
      "100%|██████████| 2/2 [00:02<00:00,  1.22s/it, idx=0, score=0.627]\n",
      "100%|██████████| 2/2 [00:02<00:00,  1.20s/it, idx=0, score=0.791]\n",
      "100%|██████████| 2/2 [00:02<00:00,  1.36s/it, idx=0, score=0.823]\n",
      "100%|██████████| 2/2 [00:02<00:00,  1.38s/it, idx=0, score=0.863]\n",
      "100%|██████████| 2/2 [00:02<00:00,  1.31s/it, idx=0, score=0.994]\n",
      "100%|██████████| 2/2 [00:02<00:00,  1.34s/it, idx=0, score=0.724]\n",
      "100%|██████████| 2/2 [00:02<00:00,  1.41s/it, idx=0, score=0.6]\n",
      "100%|██████████| 2/2 [00:02<00:00,  1.16s/it, idx=0, score=1.05]\n",
      "100%|██████████| 2/2 [00:02<00:00,  1.19s/it, idx=0, score=0.816]\n",
      "100%|██████████| 2/2 [00:02<00:00,  1.17s/it, idx=0, score=0.965]\n",
      "100%|██████████| 2/2 [00:02<00:00,  1.19s/it, idx=0, score=0.269]\n",
      "100%|██████████| 2/2 [00:02<00:00,  1.20s/it, idx=0, score=0.869]\n",
      "100%|██████████| 2/2 [00:02<00:00,  1.19s/it, idx=0, score=0.472]\n",
      "100%|██████████| 2/2 [00:02<00:00,  1.09s/it, idx=0, score=0.899]\n",
      "100%|██████████| 2/2 [00:02<00:00,  1.20s/it, idx=0, score=0.44]\n",
      "100%|██████████| 2/2 [00:02<00:00,  1.16s/it, idx=0, score=0.754]\n",
      "100%|██████████| 2/2 [00:02<00:00,  1.22s/it, idx=0, score=0.614]\n",
      "100%|██████████| 2/2 [00:02<00:00,  1.15s/it, idx=0, score=0.816]\n",
      "100%|██████████| 2/2 [00:02<00:00,  1.10s/it, idx=0, score=0.826]\n",
      "100%|██████████| 2/2 [00:02<00:00,  1.21s/it, idx=0, score=1.01]\n",
      "100%|██████████| 2/2 [00:02<00:00,  1.20s/it, idx=0, score=0.625]\n",
      "100%|██████████| 2/2 [00:02<00:00,  1.19s/it, idx=0, score=0.796]\n",
      "100%|██████████| 2/2 [00:02<00:00,  1.20s/it, idx=0, score=0.794]\n",
      "100%|██████████| 2/2 [00:02<00:00,  1.16s/it, idx=0, score=0.777]\n",
      "100%|██████████| 2/2 [00:02<00:00,  1.24s/it, idx=0, score=0.492]\n",
      "100%|██████████| 2/2 [00:02<00:00,  1.15s/it, idx=0, score=0.968]\n",
      "100%|██████████| 2/2 [00:02<00:00,  1.24s/it, idx=0, score=0.459]\n",
      "100%|██████████| 2/2 [00:02<00:00,  1.32s/it, idx=0, score=0.731]\n",
      "100%|██████████| 2/2 [00:02<00:00,  1.14s/it, idx=0, score=0.32]\n",
      "100%|██████████| 2/2 [00:02<00:00,  1.20s/it, idx=0, score=0.899]\n",
      "100%|██████████| 2/2 [00:02<00:00,  1.19s/it, idx=0, score=0.6]\n",
      "100%|██████████| 2/2 [00:02<00:00,  1.16s/it, idx=0, score=1.08]\n",
      "100%|██████████| 2/2 [00:02<00:00,  1.23s/it, idx=0, score=0.474]\n",
      "100%|██████████| 2/2 [00:02<00:00,  1.11s/it, idx=0, score=0.807]\n",
      "100%|██████████| 2/2 [00:02<00:00,  1.25s/it, idx=0, score=0.32]\n",
      "100%|██████████| 2/2 [00:02<00:00,  1.18s/it, idx=0, score=1.03]\n",
      "100%|██████████| 2/2 [00:02<00:00,  1.22s/it, idx=0, score=0.768]\n",
      "100%|██████████| 2/2 [00:02<00:00,  1.12s/it, idx=0, score=1.11]\n",
      "100%|██████████| 2/2 [00:02<00:00,  1.22s/it, idx=0, score=0.11]\n",
      "100%|██████████| 2/2 [00:02<00:00,  1.10s/it, idx=0, score=0.765]\n",
      "100%|██████████| 2/2 [00:02<00:00,  1.13s/it, idx=0, score=1.2]\n",
      "100%|██████████| 2/2 [00:02<00:00,  1.15s/it, idx=0, score=1.1]\n",
      "100%|██████████| 2/2 [00:02<00:00,  1.29s/it, idx=0, score=0.651]\n",
      "100%|██████████| 2/2 [00:02<00:00,  1.34s/it, idx=0, score=0.758]\n",
      "100%|██████████| 2/2 [00:02<00:00,  1.29s/it, idx=0, score=0.595]\n",
      "100%|██████████| 2/2 [00:02<00:00,  1.32s/it, idx=0, score=0.829]\n",
      "100%|██████████| 2/2 [00:02<00:00,  1.16s/it, idx=0, score=0.43]\n",
      "100%|██████████| 2/2 [00:02<00:00,  1.19s/it, idx=0, score=0.842]\n",
      "100%|██████████| 2/2 [00:02<00:00,  1.16s/it, idx=0, score=0.431]\n",
      "100%|██████████| 2/2 [00:02<00:00,  1.16s/it, idx=0, score=0.929]\n",
      "100%|██████████| 2/2 [00:02<00:00,  1.17s/it, idx=0, score=1.23]\n",
      "100%|██████████| 2/2 [00:02<00:00,  1.27s/it, idx=0, score=0.796]\n",
      "100%|██████████| 2/2 [00:02<00:00,  1.23s/it, idx=0, score=0.39]\n",
      "100%|██████████| 2/2 [00:02<00:00,  1.30s/it, idx=0, score=0.784]\n",
      "100%|██████████| 2/2 [00:02<00:00,  1.36s/it, idx=0, score=0.297]\n",
      "100%|██████████| 2/2 [00:02<00:00,  1.29s/it, idx=0, score=0.807]\n",
      "100%|██████████| 2/2 [00:02<00:00,  1.16s/it, idx=0, score=0.495]\n",
      "100%|██████████| 2/2 [00:02<00:00,  1.15s/it, idx=0, score=0.942]\n",
      "100%|██████████| 2/2 [00:02<00:00,  1.19s/it, idx=0, score=0.786]\n",
      "100%|██████████| 2/2 [00:02<00:00,  1.12s/it, idx=0, score=0.978]\n",
      "100%|██████████| 2/2 [00:02<00:00,  1.08s/it, idx=0, score=0.516]\n",
      "100%|██████████| 2/2 [00:02<00:00,  1.15s/it, idx=0, score=0.841]\n",
      "100%|██████████| 2/2 [00:02<00:00,  1.12s/it, idx=0, score=0.411]\n",
      "100%|██████████| 2/2 [00:02<00:00,  1.18s/it, idx=0, score=1.03]\n",
      "100%|██████████| 2/2 [00:02<00:00,  1.16s/it, idx=0, score=0.93]\n",
      "100%|██████████| 2/2 [00:02<00:00,  1.17s/it, idx=0, score=1.11]\n",
      "100%|██████████| 2/2 [00:02<00:00,  1.26s/it, idx=0, score=0.771]\n",
      "100%|██████████| 2/2 [00:02<00:00,  1.28s/it, idx=0, score=0.943]\n",
      "100%|██████████| 2/2 [00:02<00:00,  1.18s/it, idx=0, score=0.767]\n",
      "100%|██████████| 2/2 [00:02<00:00,  1.13s/it, idx=0, score=0.996]\n",
      "100%|██████████| 2/2 [00:02<00:00,  1.07s/it, idx=0, score=0.807]\n",
      "100%|██████████| 2/2 [00:02<00:00,  1.12s/it, idx=0, score=1.17]\n",
      "100%|██████████| 2/2 [00:02<00:00,  1.12s/it, idx=0, score=0.311]\n",
      "100%|██████████| 2/2 [00:02<00:00,  1.11s/it, idx=0, score=2.18]\n",
      "100%|██████████| 2/2 [00:02<00:00,  1.20s/it, idx=0, score=0.338]\n",
      "100%|██████████| 2/2 [00:02<00:00,  1.13s/it, idx=0, score=1.55]\n",
      "100%|██████████| 2/2 [00:02<00:00,  1.10s/it, idx=0, score=0.538]\n",
      "100%|██████████| 2/2 [00:02<00:00,  1.16s/it, idx=0, score=1.34]\n",
      "100%|██████████| 2/2 [00:02<00:00,  1.31s/it, idx=0, score=0.571]\n",
      "100%|██████████| 2/2 [00:02<00:00,  1.30s/it, idx=0, score=1.29]\n",
      "100%|██████████| 2/2 [00:02<00:00,  1.13s/it, idx=0, score=0.366]\n",
      "100%|██████████| 2/2 [00:02<00:00,  1.06s/it, idx=0, score=0.747]\n",
      "100%|██████████| 2/2 [00:02<00:00,  1.11s/it, idx=0, score=0.68]\n",
      "100%|██████████| 2/2 [00:02<00:00,  1.23s/it, idx=0, score=2.19]\n",
      "100%|██████████| 2/2 [00:04<00:00,  2.03s/it, idx=0, score=0.296]\n",
      "100%|██████████| 2/2 [00:04<00:00,  2.42s/it, idx=0, score=1.99]\n",
      "100%|██████████| 2/2 [00:03<00:00,  1.52s/it, idx=0, score=0.145]\n",
      "100%|██████████| 2/2 [00:02<00:00,  1.42s/it, idx=0, score=0.683]\n",
      "100%|██████████| 2/2 [00:02<00:00,  1.23s/it, idx=0, score=0.534]\n",
      "100%|██████████| 2/2 [00:02<00:00,  1.19s/it, idx=0, score=1.84]\n",
      "100%|██████████| 2/2 [00:02<00:00,  1.16s/it, idx=0, score=0.197]\n",
      "100%|██████████| 2/2 [00:02<00:00,  1.19s/it, idx=0, score=1.4]\n",
      "100%|██████████| 2/2 [00:02<00:00,  1.17s/it, idx=0, score=0.443]\n",
      "100%|██████████| 2/2 [00:02<00:00,  1.17s/it, idx=0, score=1.5]\n",
      "100%|██████████| 2/2 [00:02<00:00,  1.13s/it, idx=0, score=0.481]\n",
      "100%|██████████| 2/2 [00:02<00:00,  1.19s/it, idx=0, score=1.94]\n",
      "100%|██████████| 2/2 [00:02<00:00,  1.20s/it, idx=0, score=0.591]\n",
      "100%|██████████| 2/2 [00:02<00:00,  1.13s/it, idx=0, score=1.83]\n",
      "100%|██████████| 2/2 [00:02<00:00,  1.11s/it, idx=0, score=0.724]\n",
      "100%|██████████| 2/2 [00:02<00:00,  1.22s/it, idx=0, score=1.17]\n",
      "100%|██████████| 2/2 [00:02<00:00,  1.11s/it, idx=0, score=0.315]\n",
      "100%|██████████| 2/2 [00:02<00:00,  1.16s/it, idx=0, score=1.34]\n",
      "100%|██████████| 2/2 [00:02<00:00,  1.08s/it, idx=0, score=0.291]\n",
      "100%|██████████| 2/2 [00:02<00:00,  1.22s/it, idx=0, score=1.72]\n",
      "100%|██████████| 2/2 [00:02<00:00,  1.20s/it, idx=0, score=0.283]\n",
      "100%|██████████| 2/2 [00:02<00:00,  1.12s/it, idx=0, score=1.7]\n",
      "100%|██████████| 2/2 [00:02<00:00,  1.13s/it, idx=0, score=0.434]\n",
      "100%|██████████| 2/2 [00:02<00:00,  1.09s/it, idx=0, score=0.788]\n",
      "100%|██████████| 2/2 [00:02<00:00,  1.13s/it, idx=0, score=0.307]\n",
      "100%|██████████| 2/2 [00:02<00:00,  1.17s/it, idx=0, score=1.69]\n",
      "100%|██████████| 2/2 [00:02<00:00,  1.12s/it, idx=0, score=0.154]\n",
      "100%|██████████| 2/2 [00:02<00:00,  1.13s/it, idx=0, score=2.12]\n",
      "100%|██████████| 2/2 [00:02<00:00,  1.07s/it, idx=0, score=0.356]\n",
      "100%|██████████| 2/2 [00:02<00:00,  1.15s/it, idx=0, score=2.28]\n",
      "100%|██████████| 2/2 [00:02<00:00,  1.29s/it, idx=0, score=0.698]\n",
      "100%|██████████| 2/2 [00:02<00:00,  1.19s/it, idx=0, score=1.83]\n",
      "100%|██████████| 2/2 [00:02<00:00,  1.27s/it, idx=0, score=0.361]\n",
      "100%|██████████| 2/2 [00:02<00:00,  1.15s/it, idx=0, score=2.84]\n",
      "100%|██████████| 2/2 [00:02<00:00,  1.20s/it, idx=0, score=0.461]\n",
      "100%|██████████| 2/2 [00:02<00:00,  1.14s/it, idx=0, score=1.52]\n",
      "100%|██████████| 2/2 [00:02<00:00,  1.10s/it, idx=0, score=0.14]\n",
      "100%|██████████| 2/2 [00:02<00:00,  1.24s/it, idx=0, score=1.59]\n",
      "100%|██████████| 2/2 [00:02<00:00,  1.20s/it, idx=0, score=0.185]\n",
      "100%|██████████| 2/2 [00:02<00:00,  1.18s/it, idx=0, score=1.08]\n",
      "100%|██████████| 2/2 [00:02<00:00,  1.19s/it, idx=0, score=0.152]\n",
      "100%|██████████| 2/2 [00:02<00:00,  1.23s/it, idx=0, score=2.7]\n",
      "100%|██████████| 2/2 [00:02<00:00,  1.15s/it, idx=0, score=0.806]\n",
      "100%|██████████| 2/2 [00:02<00:00,  1.22s/it, idx=0, score=2.35]\n",
      "100%|██████████| 2/2 [00:02<00:00,  1.15s/it, idx=0, score=0.445]\n",
      "100%|██████████| 2/2 [00:02<00:00,  1.27s/it, idx=0, score=1.71]\n",
      "100%|██████████| 2/2 [00:02<00:00,  1.28s/it, idx=0, score=0.16]\n",
      "100%|██████████| 2/2 [00:02<00:00,  1.19s/it, idx=0, score=1.64]\n",
      "100%|██████████| 2/2 [00:02<00:00,  1.15s/it, idx=0, score=0.274]\n",
      "100%|██████████| 2/2 [00:02<00:00,  1.22s/it, idx=0, score=2.04]\n",
      "100%|██████████| 2/2 [00:02<00:00,  1.17s/it, idx=0, score=1.88]\n",
      "100%|██████████| 2/2 [00:02<00:00,  1.19s/it, idx=0, score=1.6]\n",
      "100%|██████████| 2/2 [00:02<00:00,  1.35s/it, idx=0, score=2.29]\n",
      "100%|██████████| 2/2 [00:02<00:00,  1.20s/it, idx=0, score=3.27]\n",
      "100%|██████████| 2/2 [00:02<00:00,  1.25s/it, idx=0, score=2.47]\n",
      "100%|██████████| 2/2 [00:02<00:00,  1.06s/it, idx=0, score=3.01]\n",
      "100%|██████████| 2/2 [00:02<00:00,  1.13s/it, idx=0, score=3.83]\n",
      "100%|██████████| 2/2 [00:02<00:00,  1.24s/it, idx=0, score=2.65]\n",
      "100%|██████████| 2/2 [00:02<00:00,  1.20s/it, idx=0, score=3.71]\n",
      "100%|██████████| 2/2 [00:02<00:00,  1.12s/it, idx=0, score=0.215]\n",
      "100%|██████████| 2/2 [00:02<00:00,  1.08s/it, idx=0, score=1.73]\n",
      "100%|██████████| 2/2 [00:02<00:00,  1.15s/it, idx=0, score=2.84]\n",
      "100%|██████████| 2/2 [00:02<00:00,  1.20s/it, idx=0, score=0.78]\n",
      "100%|██████████| 2/2 [00:02<00:00,  1.18s/it, idx=0, score=2.54]\n",
      "100%|██████████| 2/2 [00:02<00:00,  1.21s/it, idx=0, score=1.98]\n",
      "100%|██████████| 2/2 [00:02<00:00,  1.08s/it, idx=0, score=2.06]\n",
      "100%|██████████| 2/2 [00:02<00:00,  1.23s/it, idx=0, score=1.15]\n",
      "100%|██████████| 2/2 [00:02<00:00,  1.27s/it, idx=0, score=0.749]\n",
      "100%|██████████| 2/2 [00:02<00:00,  1.17s/it, idx=0, score=3.11]\n",
      "100%|██████████| 2/2 [00:02<00:00,  1.19s/it, idx=0, score=3.3]\n",
      "100%|██████████| 2/2 [00:02<00:00,  1.13s/it, idx=0, score=1.97]\n",
      "100%|██████████| 2/2 [00:02<00:00,  1.11s/it, idx=0, score=1.48]\n",
      "100%|██████████| 2/2 [00:02<00:00,  1.19s/it, idx=0, score=1.85]\n",
      "100%|██████████| 2/2 [00:02<00:00,  1.15s/it, idx=0, score=3.19]\n",
      "100%|██████████| 2/2 [00:02<00:00,  1.21s/it, idx=0, score=1.34]\n",
      "100%|██████████| 2/2 [00:02<00:00,  1.15s/it, idx=0, score=2.78]\n",
      "100%|██████████| 2/2 [00:02<00:00,  1.14s/it, idx=0, score=3.13]\n",
      "100%|██████████| 2/2 [00:02<00:00,  1.18s/it, idx=0, score=2.77]\n",
      "100%|██████████| 2/2 [00:02<00:00,  1.14s/it, idx=0, score=0.431]\n",
      "100%|██████████| 2/2 [00:02<00:00,  1.12s/it, idx=0, score=0.782]\n",
      "100%|██████████| 2/2 [00:02<00:00,  1.16s/it, idx=0, score=1.52]\n",
      "100%|██████████| 2/2 [00:02<00:00,  1.16s/it, idx=0, score=0.635]\n",
      "100%|██████████| 2/2 [00:02<00:00,  1.15s/it, idx=0, score=0.89]\n",
      "100%|██████████| 2/2 [00:02<00:00,  1.12s/it, idx=0, score=1.19]\n",
      "100%|██████████| 2/2 [00:02<00:00,  1.20s/it, idx=0, score=0.921]\n",
      "100%|██████████| 2/2 [00:02<00:00,  1.23s/it, idx=0, score=0.467]\n",
      "100%|██████████| 2/2 [00:02<00:00,  1.10s/it, idx=0, score=1.59]\n",
      "100%|██████████| 2/2 [00:02<00:00,  1.16s/it, idx=0, score=1.6]\n",
      "100%|██████████| 2/2 [00:02<00:00,  1.19s/it, idx=0, score=1.31]\n",
      "100%|██████████| 2/2 [00:02<00:00,  1.18s/it, idx=0, score=0.587]\n",
      "100%|██████████| 2/2 [00:02<00:00,  1.33s/it, idx=0, score=1.19]\n",
      "100%|██████████| 2/2 [00:02<00:00,  1.16s/it, idx=0, score=0.517]\n",
      "100%|██████████| 2/2 [00:02<00:00,  1.15s/it, idx=0, score=0.268]\n",
      "100%|██████████| 2/2 [00:02<00:00,  1.22s/it, idx=0, score=0.244]\n",
      "100%|██████████| 2/2 [00:02<00:00,  1.30s/it, idx=0, score=3.62]\n",
      "100%|██████████| 2/2 [00:02<00:00,  1.13s/it, idx=0, score=0.591]\n",
      "100%|██████████| 2/2 [00:02<00:00,  1.14s/it, idx=0, score=2.34]\n",
      "100%|██████████| 2/2 [00:02<00:00,  1.07s/it, idx=0, score=0.948]\n",
      "100%|██████████| 2/2 [00:02<00:00,  1.13s/it, idx=0, score=1.88]\n",
      "100%|██████████| 2/2 [00:02<00:00,  1.19s/it, idx=0, score=1.04]\n",
      "100%|██████████| 2/2 [00:02<00:00,  1.11s/it, idx=0, score=0.242]\n",
      "100%|██████████| 2/2 [00:02<00:00,  1.13s/it, idx=0, score=0.526]\n",
      "100%|██████████| 2/2 [00:02<00:00,  1.08s/it, idx=0, score=2.34]\n",
      "100%|██████████| 2/2 [00:02<00:00,  1.13s/it, idx=0, score=0.165]\n",
      "100%|██████████| 2/2 [00:02<00:00,  1.14s/it, idx=0, score=1.08]\n",
      "100%|██████████| 2/2 [00:02<00:00,  1.13s/it, idx=0, score=2.1]\n",
      "100%|██████████| 2/2 [00:02<00:00,  1.14s/it, idx=0, score=1.89]\n",
      "100%|██████████| 2/2 [00:02<00:00,  1.10s/it, idx=0, score=0.817]\n",
      "100%|██████████| 2/2 [00:02<00:00,  1.21s/it, idx=0, score=1.62]\n",
      "100%|██████████| 2/2 [00:02<00:00,  1.16s/it, idx=0, score=0.593]\n",
      "100%|██████████| 2/2 [00:02<00:00,  1.13s/it, idx=0, score=3.28]\n",
      "100%|██████████| 2/2 [00:02<00:00,  1.12s/it, idx=0, score=2.38]\n",
      "100%|██████████| 2/2 [00:02<00:00,  1.07s/it, idx=0, score=3.14]\n",
      "100%|██████████| 2/2 [00:02<00:00,  1.12s/it, idx=0, score=2.29]\n",
      "100%|██████████| 2/2 [00:02<00:00,  1.16s/it, idx=0, score=1.67]\n",
      "100%|██████████| 2/2 [00:02<00:00,  1.12s/it, idx=0, score=0.359]\n",
      "100%|██████████| 2/2 [00:02<00:00,  1.13s/it, idx=0, score=0.31]\n",
      "100%|██████████| 2/2 [00:02<00:00,  1.12s/it, idx=0, score=0.122]\n",
      "100%|██████████| 2/2 [00:02<00:00,  1.07s/it, idx=0, score=1.24]\n",
      "100%|██████████| 2/2 [00:02<00:00,  1.17s/it, idx=0, score=0.366]\n",
      "100%|██████████| 2/2 [00:02<00:00,  1.14s/it, idx=0, score=1.82]\n",
      "100%|██████████| 2/2 [00:02<00:00,  1.19s/it, idx=0, score=0.286]\n",
      "100%|██████████| 2/2 [00:02<00:00,  1.18s/it, idx=0, score=0.699]\n",
      "100%|██████████| 2/2 [00:02<00:00,  1.13s/it, idx=0, score=0.261]\n",
      "100%|██████████| 2/2 [00:02<00:00,  1.21s/it, idx=0, score=1.52]\n",
      "100%|██████████| 2/2 [00:02<00:00,  1.16s/it, idx=0, score=0.123]\n",
      "100%|██████████| 2/2 [00:02<00:00,  1.15s/it, idx=0, score=1.1]\n",
      "100%|██████████| 2/2 [00:02<00:00,  1.23s/it, idx=0, score=0.363]\n",
      "100%|██████████| 2/2 [00:02<00:00,  1.12s/it, idx=0, score=1.42]\n",
      "100%|██████████| 2/2 [00:02<00:00,  1.18s/it, idx=0, score=0.0985]\n",
      "100%|██████████| 2/2 [00:02<00:00,  1.22s/it, idx=0, score=1.86]\n",
      "100%|██████████| 2/2 [00:02<00:00,  1.16s/it, idx=0, score=0.943]\n",
      "100%|██████████| 2/2 [00:02<00:00,  1.22s/it, idx=0, score=1.05]\n",
      "100%|██████████| 2/2 [00:02<00:00,  1.13s/it, idx=0, score=0.492]\n",
      "100%|██████████| 2/2 [00:02<00:00,  1.07s/it, idx=0, score=1.22]\n",
      "100%|██████████| 2/2 [00:02<00:00,  1.13s/it, idx=0, score=0.835]\n",
      "100%|██████████| 2/2 [00:02<00:00,  1.23s/it, idx=0, score=0.931]\n",
      "100%|██████████| 2/2 [00:02<00:00,  1.12s/it, idx=0, score=0.55]\n",
      "100%|██████████| 2/2 [00:02<00:00,  1.14s/it, idx=0, score=2.01]\n",
      "100%|██████████| 2/2 [00:02<00:00,  1.11s/it, idx=0, score=0.304]\n",
      "100%|██████████| 2/2 [00:02<00:00,  1.19s/it, idx=0, score=0.981]\n",
      "100%|██████████| 2/2 [00:02<00:00,  1.19s/it, idx=0, score=0.489]\n",
      "100%|██████████| 2/2 [00:02<00:00,  1.17s/it, idx=0, score=0.948]\n",
      "100%|██████████| 2/2 [00:02<00:00,  1.13s/it, idx=0, score=0.13]\n",
      "100%|██████████| 2/2 [00:02<00:00,  1.10s/it, idx=0, score=1.61]\n",
      "100%|██████████| 2/2 [00:02<00:00,  1.16s/it, idx=0, score=0.273]\n",
      "100%|██████████| 2/2 [00:02<00:00,  1.13s/it, idx=0, score=0.689]\n",
      "100%|██████████| 2/2 [00:02<00:00,  1.16s/it, idx=0, score=0.38]\n",
      "100%|██████████| 2/2 [00:02<00:00,  1.17s/it, idx=0, score=1.63]\n",
      "100%|██████████| 2/2 [00:02<00:00,  1.23s/it, idx=0, score=0.16]\n",
      "100%|██████████| 2/2 [00:02<00:00,  1.13s/it, idx=0, score=0.542]\n",
      "100%|██████████| 2/2 [00:02<00:00,  1.18s/it, idx=0, score=1.07]\n",
      "100%|██████████| 2/2 [00:02<00:00,  1.19s/it, idx=0, score=1.08]\n",
      "100%|██████████| 2/2 [00:02<00:00,  1.31s/it, idx=0, score=0.664]\n",
      "100%|██████████| 2/2 [00:02<00:00,  1.21s/it, idx=0, score=1.01]\n",
      "100%|██████████| 2/2 [00:02<00:00,  1.23s/it, idx=0, score=0.668]\n",
      "100%|██████████| 2/2 [00:02<00:00,  1.38s/it, idx=0, score=1.96]\n",
      "100%|██████████| 2/2 [00:02<00:00,  1.31s/it, idx=0, score=0.191]\n",
      "100%|██████████| 2/2 [00:02<00:00,  1.19s/it, idx=0, score=1.82]\n",
      "100%|██████████| 2/2 [00:02<00:00,  1.33s/it, idx=0, score=0.113]\n",
      "100%|██████████| 2/2 [00:02<00:00,  1.15s/it, idx=0, score=1.63]\n",
      "100%|██████████| 2/2 [00:02<00:00,  1.34s/it, idx=0, score=0.266]\n",
      "100%|██████████| 2/2 [00:02<00:00,  1.31s/it, idx=0, score=0.707]\n",
      "100%|██████████| 2/2 [00:02<00:00,  1.23s/it, idx=0, score=0.515]\n",
      "100%|██████████| 2/2 [00:02<00:00,  1.28s/it, idx=0, score=2.08]\n",
      "100%|██████████| 2/2 [00:02<00:00,  1.27s/it, idx=0, score=0.419]\n",
      "100%|██████████| 2/2 [00:02<00:00,  1.34s/it, idx=0, score=0.747]\n",
      "100%|██████████| 2/2 [00:02<00:00,  1.48s/it, idx=0, score=0.595]\n",
      "100%|██████████| 2/2 [00:02<00:00,  1.29s/it, idx=0, score=1.86]\n",
      "100%|██████████| 2/2 [00:02<00:00,  1.28s/it, idx=0, score=0.182]\n",
      "100%|██████████| 2/2 [00:02<00:00,  1.20s/it, idx=0, score=1.33]\n",
      "100%|██████████| 2/2 [00:02<00:00,  1.15s/it, idx=0, score=0.436]\n",
      "100%|██████████| 2/2 [00:02<00:00,  1.26s/it, idx=0, score=1.45]\n",
      "100%|██████████| 2/2 [00:02<00:00,  1.23s/it, idx=0, score=0.107]\n",
      "100%|██████████| 2/2 [00:02<00:00,  1.17s/it, idx=0, score=0.828]\n",
      "100%|██████████| 2/2 [00:02<00:00,  1.26s/it, idx=0, score=0.593]\n",
      "100%|██████████| 2/2 [00:02<00:00,  1.19s/it, idx=0, score=1.01]\n",
      "100%|██████████| 2/2 [00:02<00:00,  1.30s/it, idx=0, score=0.136]\n",
      "100%|██████████| 2/2 [00:02<00:00,  1.21s/it, idx=0, score=0.945]\n",
      "100%|██████████| 2/2 [00:02<00:00,  1.23s/it, idx=0, score=1.79]\n",
      "100%|██████████| 2/2 [00:02<00:00,  1.22s/it, idx=0, score=1.99]\n",
      "100%|██████████| 2/2 [00:02<00:00,  1.17s/it, idx=0, score=0.32]\n",
      "100%|██████████| 2/2 [00:02<00:00,  1.17s/it, idx=0, score=0.839]\n",
      "100%|██████████| 2/2 [00:02<00:00,  1.21s/it, idx=0, score=2.33]\n",
      "100%|██████████| 2/2 [00:02<00:00,  1.19s/it, idx=0, score=0.16]\n",
      "100%|██████████| 2/2 [00:02<00:00,  1.26s/it, idx=0, score=0.576]\n",
      "100%|██████████| 2/2 [00:02<00:00,  1.09s/it, idx=0, score=0.132]\n",
      "100%|██████████| 2/2 [00:02<00:00,  1.25s/it, idx=0, score=0.629]\n",
      "100%|██████████| 2/2 [00:02<00:00,  1.32s/it, idx=0, score=0.744]\n",
      "100%|██████████| 2/2 [00:02<00:00,  1.39s/it, idx=0, score=0.789]\n",
      "100%|██████████| 2/2 [00:02<00:00,  1.34s/it, idx=0, score=1.47]\n",
      "100%|██████████| 2/2 [00:02<00:00,  1.33s/it, idx=0, score=3.4]\n",
      "100%|██████████| 2/2 [00:02<00:00,  1.27s/it, idx=0, score=1.78]\n",
      "100%|██████████| 2/2 [00:02<00:00,  1.34s/it, idx=0, score=1.46]\n",
      "100%|██████████| 2/2 [00:02<00:00,  1.24s/it, idx=0, score=2.51]\n",
      "100%|██████████| 2/2 [00:02<00:00,  1.31s/it, idx=0, score=1.85]\n",
      "100%|██████████| 2/2 [00:02<00:00,  1.32s/it, idx=0, score=1.29]\n",
      "100%|██████████| 2/2 [00:02<00:00,  1.21s/it, idx=0, score=1.57]\n",
      "100%|██████████| 2/2 [00:02<00:00,  1.25s/it, idx=0, score=1.83]\n",
      "100%|██████████| 2/2 [00:02<00:00,  1.29s/it, idx=0, score=1.13]\n",
      "100%|██████████| 2/2 [00:02<00:00,  1.28s/it, idx=0, score=2.65]\n",
      "100%|██████████| 2/2 [00:02<00:00,  1.31s/it, idx=0, score=0.305]\n",
      "100%|██████████| 2/2 [00:02<00:00,  1.22s/it, idx=0, score=0.582]\n",
      "100%|██████████| 2/2 [00:02<00:00,  1.26s/it, idx=0, score=1.35]\n",
      "100%|██████████| 2/2 [00:02<00:00,  1.22s/it, idx=0, score=0.404]\n",
      "100%|██████████| 2/2 [00:02<00:00,  1.16s/it, idx=0, score=1.25]\n",
      "100%|██████████| 2/2 [00:02<00:00,  1.23s/it, idx=0, score=0.929]\n",
      "100%|██████████| 2/2 [00:02<00:00,  1.14s/it, idx=0, score=1.6]\n",
      "100%|██████████| 2/2 [00:02<00:00,  1.20s/it, idx=0, score=3.02]\n",
      "100%|██████████| 2/2 [00:02<00:00,  1.30s/it, idx=0, score=0.187]\n",
      "100%|██████████| 2/2 [00:02<00:00,  1.47s/it, idx=0, score=1.03]\n",
      "100%|██████████| 2/2 [00:02<00:00,  1.33s/it, idx=0, score=3.43]\n",
      "100%|██████████| 2/2 [00:02<00:00,  1.17s/it, idx=0, score=0.172]\n",
      "100%|██████████| 2/2 [00:02<00:00,  1.20s/it, idx=0, score=2.19]\n",
      "100%|██████████| 2/2 [00:02<00:00,  1.21s/it, idx=0, score=0.746]\n",
      "100%|██████████| 2/2 [00:02<00:00,  1.28s/it, idx=0, score=2.99]\n",
      "100%|██████████| 2/2 [00:02<00:00,  1.23s/it, idx=0, score=0.384]\n",
      "100%|██████████| 2/2 [00:02<00:00,  1.32s/it, idx=0, score=1.31]\n",
      "100%|██████████| 2/2 [00:02<00:00,  1.16s/it, idx=0, score=0.594]\n",
      "100%|██████████| 2/2 [00:02<00:00,  1.28s/it, idx=0, score=1.41]\n",
      "100%|██████████| 2/2 [00:02<00:00,  1.29s/it, idx=0, score=0.846]\n",
      "100%|██████████| 2/2 [00:02<00:00,  1.39s/it, idx=0, score=0.456]\n",
      "100%|██████████| 2/2 [00:02<00:00,  1.29s/it, idx=0, score=1.8]\n",
      "100%|██████████| 2/2 [00:02<00:00,  1.28s/it, idx=0, score=0.315]\n",
      "100%|██████████| 2/2 [00:02<00:00,  1.34s/it, idx=0, score=3.65]\n",
      "100%|██████████| 2/2 [00:02<00:00,  1.29s/it, idx=0, score=0.501]\n",
      "100%|██████████| 2/2 [00:02<00:00,  1.35s/it, idx=0, score=1.06]\n",
      "100%|██████████| 2/2 [00:02<00:00,  1.31s/it, idx=0, score=0.254]\n",
      "100%|██████████| 2/2 [00:02<00:00,  1.20s/it, idx=0, score=3.62]\n",
      "100%|██████████| 2/2 [00:02<00:00,  1.26s/it, idx=0, score=1.02]\n",
      "100%|██████████| 2/2 [00:02<00:00,  1.21s/it, idx=0, score=0.545]\n",
      "100%|██████████| 2/2 [00:02<00:00,  1.16s/it, idx=0, score=1.66]\n",
      "100%|██████████| 2/2 [00:02<00:00,  1.22s/it, idx=0, score=2.56]\n",
      "100%|██████████| 2/2 [00:02<00:00,  1.16s/it, idx=0, score=2.29]\n",
      "100%|██████████| 2/2 [00:02<00:00,  1.26s/it, idx=0, score=0.536]\n",
      "100%|██████████| 2/2 [00:02<00:00,  1.18s/it, idx=0, score=2.8]\n",
      "100%|██████████| 2/2 [00:02<00:00,  1.19s/it, idx=0, score=0.657]\n",
      "100%|██████████| 2/2 [00:02<00:00,  1.24s/it, idx=0, score=3.56]\n",
      "100%|██████████| 2/2 [00:02<00:00,  1.26s/it, idx=0, score=0.56]\n",
      "100%|██████████| 2/2 [00:02<00:00,  1.16s/it, idx=0, score=3.09]\n",
      "100%|██████████| 2/2 [00:02<00:00,  1.35s/it, idx=0, score=2.18]\n",
      "100%|██████████| 2/2 [00:02<00:00,  1.38s/it, idx=0, score=1.54]\n"
     ]
    },
    {
     "name": "stdout",
     "output_type": "stream",
     "text": [
      "--- Execution time : 1560 seconds ---\n"
     ]
    },
    {
     "data": {
      "image/png": "[encoded data removed]",
      "text/plain": [
       "<Figure size 640x480 with 1 Axes>"
      ]
     },
     "metadata": {},
     "output_type": "display_data"
    }
   ],
   "source": [
    "# Pairwise orientation of the edges of the graph\n",
    "from cdt.causality.pairwise import GNN\n",
    "from cdt.utils.graph import dagify_min_edge\n",
    "start_time = time.time()\n",
    "\n",
    "gnn = GNN(nruns=32, train_epochs=1, test_epochs=1, batch_size=1000)\n",
    "ograph = dagify_min_edge(gnn.orient_graph(data, ugraph))\n",
    "print(\"--- Execution time : %4.4s seconds ---\" % (time.time() - start_time))\n",
    "try:\n",
    "    with open('model2.pkl', 'wb') as file:\n",
    "        pickle.dump(gnn, file)\n",
    "except:\n",
    "    print('Error!!!!')\n",
    "    pass  \n",
    "nx.draw_networkx(ograph, font_size=8) # The plot function allows for quick visualization of the graph.\n",
    "plt.show()\n",
    "# List results\n",
    "df2=pd.DataFrame(list(ograph.edges(data='weight')), columns=['Cause', 'Effect', 'Score'])\n",
    "df2.to_csv('E:\\homework\\desktop\\hw\\CS280-作业\\project\\\\results_FSGNN\\\\'+'FSGNN_'+name+'.csv')"
   ]
  }
 ],
 "metadata": {
  "kernelspec": {
   "display_name": "cvcxd",
   "language": "python",
   "name": "python3"
  },
  "language_info": {
   "codemirror_mode": {
    "name": "ipython",
    "version": 3
   },
   "file_extension": ".py",
   "mimetype": "text/x-python",
   "name": "python",
   "nbconvert_exporter": "python",
   "pygments_lexer": "ipython3",
   "version": "3.8.16"
  }
 },
 "nbformat": 4,
 "nbformat_minor": 2
}
